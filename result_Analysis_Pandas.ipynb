{
  "nbformat": 4,
  "nbformat_minor": 5,
  "metadata": {
    "kernelspec": {
      "display_name": "Python 3",
      "language": "python",
      "name": "python3"
    },
    "language_info": {
      "codemirror_mode": {
        "name": "ipython",
        "version": 3
      },
      "file_extension": ".py",
      "mimetype": "text/x-python",
      "name": "python",
      "nbconvert_exporter": "python",
      "pygments_lexer": "ipython3",
      "version": "3.8.8"
    },
    "colab": {
      "name": "result_Analysis_Pandas.ipynb",
      "provenance": [],
      "collapsed_sections": []
    }
  },
  "cells": [
    {
      "cell_type": "code",
      "metadata": {
        "id": "d57eed8d"
      },
      "source": [
        "import pandas as pd\n",
        "import numpy as np"
      ],
      "id": "d57eed8d",
      "execution_count": null,
      "outputs": []
    },
    {
      "cell_type": "markdown",
      "metadata": {
        "id": "60ce150f"
      },
      "source": [
        "### Creating DataFrame from files"
      ],
      "id": "60ce150f"
    },
    {
      "cell_type": "markdown",
      "metadata": {
        "id": "0336db87"
      },
      "source": [
        "DataFrame can be created from three types of files:\n",
        "<ol>\n",
        "    <li>Comma Separated Values(CSV files) - read_csv function</li>\n",
        "    <li> Excel Files - read_excel function</li>\n",
        "    <li> Text files - read_table function</li>\n",
        "</ol>"
      ],
      "id": "0336db87"
    },
    {
      "cell_type": "markdown",
      "metadata": {
        "id": "bfcba970"
      },
      "source": [
        "Separators maybe specified while using read_csv or read_table functions"
      ],
      "id": "bfcba970"
    },
    {
      "cell_type": "code",
      "metadata": {
        "id": "9d1030b1"
      },
      "source": [
        "sslc = pd.read_csv('marks.txt',sep=';',header=None,index_col=None)"
      ],
      "id": "9d1030b1",
      "execution_count": null,
      "outputs": []
    },
    {
      "cell_type": "markdown",
      "metadata": {
        "id": "9dca2256"
      },
      "source": [
        "#### Display first five records"
      ],
      "id": "9dca2256"
    },
    {
      "cell_type": "code",
      "metadata": {
        "id": "f4219a66",
        "colab": {
          "base_uri": "https://localhost:8080/",
          "height": 206
        },
        "outputId": "bbc22dc7-fab7-4d37-d6c1-3de3d8fe3ec9"
      },
      "source": [
        "sslc.head()"
      ],
      "id": "f4219a66",
      "execution_count": null,
      "outputs": [
        {
          "output_type": "execute_result",
          "data": {
            "text/html": [
              "<div>\n",
              "<style scoped>\n",
              "    .dataframe tbody tr th:only-of-type {\n",
              "        vertical-align: middle;\n",
              "    }\n",
              "\n",
              "    .dataframe tbody tr th {\n",
              "        vertical-align: top;\n",
              "    }\n",
              "\n",
              "    .dataframe thead th {\n",
              "        text-align: right;\n",
              "    }\n",
              "</style>\n",
              "<table border=\"1\" class=\"dataframe\">\n",
              "  <thead>\n",
              "    <tr style=\"text-align: right;\">\n",
              "      <th></th>\n",
              "      <th>0</th>\n",
              "      <th>1</th>\n",
              "      <th>2</th>\n",
              "      <th>3</th>\n",
              "      <th>4</th>\n",
              "      <th>5</th>\n",
              "      <th>6</th>\n",
              "      <th>7</th>\n",
              "      <th>8</th>\n",
              "      <th>9</th>\n",
              "      <th>10</th>\n",
              "    </tr>\n",
              "  </thead>\n",
              "  <tbody>\n",
              "    <tr>\n",
              "      <th>0</th>\n",
              "      <td>A</td>\n",
              "      <td>10001</td>\n",
              "      <td>053</td>\n",
              "      <td>036</td>\n",
              "      <td>28</td>\n",
              "      <td>16</td>\n",
              "      <td>44</td>\n",
              "      <td>177.0</td>\n",
              "      <td>NaN</td>\n",
              "      <td>NaN</td>\n",
              "      <td>NaN</td>\n",
              "    </tr>\n",
              "    <tr>\n",
              "      <th>1</th>\n",
              "      <td>A</td>\n",
              "      <td>10002</td>\n",
              "      <td>058</td>\n",
              "      <td>037</td>\n",
              "      <td>42</td>\n",
              "      <td>35</td>\n",
              "      <td>40</td>\n",
              "      <td>212.0</td>\n",
              "      <td>P</td>\n",
              "      <td>NaN</td>\n",
              "      <td>NaN</td>\n",
              "    </tr>\n",
              "    <tr>\n",
              "      <th>2</th>\n",
              "      <td>A</td>\n",
              "      <td>10003</td>\n",
              "      <td>072</td>\n",
              "      <td>056</td>\n",
              "      <td>71</td>\n",
              "      <td>55</td>\n",
              "      <td>70</td>\n",
              "      <td>324.0</td>\n",
              "      <td>P</td>\n",
              "      <td>NaN</td>\n",
              "      <td>NaN</td>\n",
              "    </tr>\n",
              "    <tr>\n",
              "      <th>3</th>\n",
              "      <td>A</td>\n",
              "      <td>10004</td>\n",
              "      <td>087</td>\n",
              "      <td>064</td>\n",
              "      <td>83</td>\n",
              "      <td>58</td>\n",
              "      <td>65</td>\n",
              "      <td>357.0</td>\n",
              "      <td>P</td>\n",
              "      <td>NaN</td>\n",
              "      <td>NaN</td>\n",
              "    </tr>\n",
              "    <tr>\n",
              "      <th>4</th>\n",
              "      <td>A</td>\n",
              "      <td>10005</td>\n",
              "      <td>059</td>\n",
              "      <td>045</td>\n",
              "      <td>50</td>\n",
              "      <td>35</td>\n",
              "      <td>48</td>\n",
              "      <td>237.0</td>\n",
              "      <td>P</td>\n",
              "      <td>NaN</td>\n",
              "      <td>NaN</td>\n",
              "    </tr>\n",
              "  </tbody>\n",
              "</table>\n",
              "</div>"
            ],
            "text/plain": [
              "  0      1    2    3   4   5   6      7    8    9   10\n",
              "0  A  10001  053  036  28  16  44  177.0  NaN  NaN NaN\n",
              "1  A  10002  058  037  42  35  40  212.0    P  NaN NaN\n",
              "2  A  10003  072  056  71  55  70  324.0    P  NaN NaN\n",
              "3  A  10004  087  064  83  58  65  357.0    P  NaN NaN\n",
              "4  A  10005  059  045  50  35  48  237.0    P  NaN NaN"
            ]
          },
          "metadata": {},
          "execution_count": 256
        }
      ]
    },
    {
      "cell_type": "code",
      "metadata": {
        "id": "741b3222"
      },
      "source": [
        "sslc.columns = ['region','roll_number','fl','sl','math','sci','ss','total','pass','withheld','extra']"
      ],
      "id": "741b3222",
      "execution_count": null,
      "outputs": []
    },
    {
      "cell_type": "code",
      "metadata": {
        "id": "9c9d5e87",
        "colab": {
          "base_uri": "https://localhost:8080/",
          "height": 269
        },
        "outputId": "02e432df-90b4-45cf-aaf0-f9903d0b6bfe"
      },
      "source": [
        "sslc.head(7)"
      ],
      "id": "9c9d5e87",
      "execution_count": null,
      "outputs": [
        {
          "output_type": "execute_result",
          "data": {
            "text/html": [
              "<div>\n",
              "<style scoped>\n",
              "    .dataframe tbody tr th:only-of-type {\n",
              "        vertical-align: middle;\n",
              "    }\n",
              "\n",
              "    .dataframe tbody tr th {\n",
              "        vertical-align: top;\n",
              "    }\n",
              "\n",
              "    .dataframe thead th {\n",
              "        text-align: right;\n",
              "    }\n",
              "</style>\n",
              "<table border=\"1\" class=\"dataframe\">\n",
              "  <thead>\n",
              "    <tr style=\"text-align: right;\">\n",
              "      <th></th>\n",
              "      <th>region</th>\n",
              "      <th>roll_number</th>\n",
              "      <th>fl</th>\n",
              "      <th>sl</th>\n",
              "      <th>math</th>\n",
              "      <th>sci</th>\n",
              "      <th>ss</th>\n",
              "      <th>total</th>\n",
              "      <th>pass</th>\n",
              "      <th>withheld</th>\n",
              "      <th>extra</th>\n",
              "    </tr>\n",
              "  </thead>\n",
              "  <tbody>\n",
              "    <tr>\n",
              "      <th>0</th>\n",
              "      <td>A</td>\n",
              "      <td>10001</td>\n",
              "      <td>053</td>\n",
              "      <td>036</td>\n",
              "      <td>28</td>\n",
              "      <td>16</td>\n",
              "      <td>44</td>\n",
              "      <td>177.0</td>\n",
              "      <td>NaN</td>\n",
              "      <td>NaN</td>\n",
              "      <td>NaN</td>\n",
              "    </tr>\n",
              "    <tr>\n",
              "      <th>1</th>\n",
              "      <td>A</td>\n",
              "      <td>10002</td>\n",
              "      <td>058</td>\n",
              "      <td>037</td>\n",
              "      <td>42</td>\n",
              "      <td>35</td>\n",
              "      <td>40</td>\n",
              "      <td>212.0</td>\n",
              "      <td>P</td>\n",
              "      <td>NaN</td>\n",
              "      <td>NaN</td>\n",
              "    </tr>\n",
              "    <tr>\n",
              "      <th>2</th>\n",
              "      <td>A</td>\n",
              "      <td>10003</td>\n",
              "      <td>072</td>\n",
              "      <td>056</td>\n",
              "      <td>71</td>\n",
              "      <td>55</td>\n",
              "      <td>70</td>\n",
              "      <td>324.0</td>\n",
              "      <td>P</td>\n",
              "      <td>NaN</td>\n",
              "      <td>NaN</td>\n",
              "    </tr>\n",
              "    <tr>\n",
              "      <th>3</th>\n",
              "      <td>A</td>\n",
              "      <td>10004</td>\n",
              "      <td>087</td>\n",
              "      <td>064</td>\n",
              "      <td>83</td>\n",
              "      <td>58</td>\n",
              "      <td>65</td>\n",
              "      <td>357.0</td>\n",
              "      <td>P</td>\n",
              "      <td>NaN</td>\n",
              "      <td>NaN</td>\n",
              "    </tr>\n",
              "    <tr>\n",
              "      <th>4</th>\n",
              "      <td>A</td>\n",
              "      <td>10005</td>\n",
              "      <td>059</td>\n",
              "      <td>045</td>\n",
              "      <td>50</td>\n",
              "      <td>35</td>\n",
              "      <td>48</td>\n",
              "      <td>237.0</td>\n",
              "      <td>P</td>\n",
              "      <td>NaN</td>\n",
              "      <td>NaN</td>\n",
              "    </tr>\n",
              "    <tr>\n",
              "      <th>5</th>\n",
              "      <td>A</td>\n",
              "      <td>10006</td>\n",
              "      <td>044</td>\n",
              "      <td>037</td>\n",
              "      <td>25</td>\n",
              "      <td>18</td>\n",
              "      <td>37</td>\n",
              "      <td>161.0</td>\n",
              "      <td>NaN</td>\n",
              "      <td>NaN</td>\n",
              "      <td>NaN</td>\n",
              "    </tr>\n",
              "    <tr>\n",
              "      <th>6</th>\n",
              "      <td>A</td>\n",
              "      <td>10007</td>\n",
              "      <td>062</td>\n",
              "      <td>046</td>\n",
              "      <td>49</td>\n",
              "      <td>36</td>\n",
              "      <td>44</td>\n",
              "      <td>237.0</td>\n",
              "      <td>P</td>\n",
              "      <td>NaN</td>\n",
              "      <td>NaN</td>\n",
              "    </tr>\n",
              "  </tbody>\n",
              "</table>\n",
              "</div>"
            ],
            "text/plain": [
              "  region  roll_number   fl   sl math sci  ss  total pass withheld  extra\n",
              "0      A        10001  053  036   28  16  44  177.0  NaN      NaN    NaN\n",
              "1      A        10002  058  037   42  35  40  212.0    P      NaN    NaN\n",
              "2      A        10003  072  056   71  55  70  324.0    P      NaN    NaN\n",
              "3      A        10004  087  064   83  58  65  357.0    P      NaN    NaN\n",
              "4      A        10005  059  045   50  35  48  237.0    P      NaN    NaN\n",
              "5      A        10006  044  037   25  18  37  161.0  NaN      NaN    NaN\n",
              "6      A        10007  062  046   49  36  44  237.0    P      NaN    NaN"
            ]
          },
          "metadata": {},
          "execution_count": 258
        }
      ]
    },
    {
      "cell_type": "markdown",
      "metadata": {
        "id": "2bfba20d"
      },
      "source": [
        "#### Display Last Eight Records"
      ],
      "id": "2bfba20d"
    },
    {
      "cell_type": "code",
      "metadata": {
        "id": "d54c9a81",
        "colab": {
          "base_uri": "https://localhost:8080/",
          "height": 300
        },
        "outputId": "4da1e9bc-f5f0-4e6f-c22c-1edbaf4492ad"
      },
      "source": [
        "sslc.tail(8)"
      ],
      "id": "d54c9a81",
      "execution_count": null,
      "outputs": [
        {
          "output_type": "execute_result",
          "data": {
            "text/html": [
              "<div>\n",
              "<style scoped>\n",
              "    .dataframe tbody tr th:only-of-type {\n",
              "        vertical-align: middle;\n",
              "    }\n",
              "\n",
              "    .dataframe tbody tr th {\n",
              "        vertical-align: top;\n",
              "    }\n",
              "\n",
              "    .dataframe thead th {\n",
              "        text-align: right;\n",
              "    }\n",
              "</style>\n",
              "<table border=\"1\" class=\"dataframe\">\n",
              "  <thead>\n",
              "    <tr style=\"text-align: right;\">\n",
              "      <th></th>\n",
              "      <th>region</th>\n",
              "      <th>roll_number</th>\n",
              "      <th>fl</th>\n",
              "      <th>sl</th>\n",
              "      <th>math</th>\n",
              "      <th>sci</th>\n",
              "      <th>ss</th>\n",
              "      <th>total</th>\n",
              "      <th>pass</th>\n",
              "      <th>withheld</th>\n",
              "      <th>extra</th>\n",
              "    </tr>\n",
              "  </thead>\n",
              "  <tbody>\n",
              "    <tr>\n",
              "      <th>185659</th>\n",
              "      <td>C</td>\n",
              "      <td>199991</td>\n",
              "      <td>063</td>\n",
              "      <td>042</td>\n",
              "      <td>37</td>\n",
              "      <td>35</td>\n",
              "      <td>60</td>\n",
              "      <td>237</td>\n",
              "      <td>P</td>\n",
              "      <td>NaN</td>\n",
              "      <td>NaN</td>\n",
              "    </tr>\n",
              "    <tr>\n",
              "      <th>185660</th>\n",
              "      <td>C</td>\n",
              "      <td>199992</td>\n",
              "      <td>058</td>\n",
              "      <td>044</td>\n",
              "      <td>36</td>\n",
              "      <td>20</td>\n",
              "      <td>45</td>\n",
              "      <td>203</td>\n",
              "      <td>NaN</td>\n",
              "      <td>NaN</td>\n",
              "      <td>NaN</td>\n",
              "    </tr>\n",
              "    <tr>\n",
              "      <th>185661</th>\n",
              "      <td>C</td>\n",
              "      <td>199994</td>\n",
              "      <td>044</td>\n",
              "      <td>038</td>\n",
              "      <td>25</td>\n",
              "      <td>17</td>\n",
              "      <td>41</td>\n",
              "      <td>165</td>\n",
              "      <td>NaN</td>\n",
              "      <td>NaN</td>\n",
              "      <td>NaN</td>\n",
              "    </tr>\n",
              "    <tr>\n",
              "      <th>185662</th>\n",
              "      <td>C</td>\n",
              "      <td>199995</td>\n",
              "      <td>053</td>\n",
              "      <td>034</td>\n",
              "      <td>26</td>\n",
              "      <td>24</td>\n",
              "      <td>44</td>\n",
              "      <td>181</td>\n",
              "      <td>NaN</td>\n",
              "      <td>NaN</td>\n",
              "      <td>NaN</td>\n",
              "    </tr>\n",
              "    <tr>\n",
              "      <th>185663</th>\n",
              "      <td>C</td>\n",
              "      <td>199996</td>\n",
              "      <td>051</td>\n",
              "      <td>038</td>\n",
              "      <td>24</td>\n",
              "      <td>15</td>\n",
              "      <td>41</td>\n",
              "      <td>169</td>\n",
              "      <td>NaN</td>\n",
              "      <td>NaN</td>\n",
              "      <td>NaN</td>\n",
              "    </tr>\n",
              "    <tr>\n",
              "      <th>185664</th>\n",
              "      <td>C</td>\n",
              "      <td>199997</td>\n",
              "      <td>049</td>\n",
              "      <td>039</td>\n",
              "      <td>12</td>\n",
              "      <td>20</td>\n",
              "      <td>24</td>\n",
              "      <td>144</td>\n",
              "      <td>NaN</td>\n",
              "      <td>NaN</td>\n",
              "      <td>NaN</td>\n",
              "    </tr>\n",
              "    <tr>\n",
              "      <th>185665</th>\n",
              "      <td>C</td>\n",
              "      <td>199998</td>\n",
              "      <td>033</td>\n",
              "      <td>036</td>\n",
              "      <td>22</td>\n",
              "      <td>15</td>\n",
              "      <td>35</td>\n",
              "      <td>141</td>\n",
              "      <td>NaN</td>\n",
              "      <td>NaN</td>\n",
              "      <td>NaN</td>\n",
              "    </tr>\n",
              "    <tr>\n",
              "      <th>185666</th>\n",
              "      <td>C</td>\n",
              "      <td>199999</td>\n",
              "      <td>017</td>\n",
              "      <td>014</td>\n",
              "      <td>15</td>\n",
              "      <td>14</td>\n",
              "      <td>20</td>\n",
              "      <td>80</td>\n",
              "      <td>NaN</td>\n",
              "      <td>NaN</td>\n",
              "      <td>NaN</td>\n",
              "    </tr>\n",
              "  </tbody>\n",
              "</table>\n",
              "</div>"
            ],
            "text/plain": [
              "       region  roll_number   fl   sl math sci  ss total pass withheld  extra\n",
              "185659      C       199991  063  042   37  35  60   237    P      NaN    NaN\n",
              "185660      C       199992  058  044   36  20  45   203  NaN      NaN    NaN\n",
              "185661      C       199994  044  038   25  17  41   165  NaN      NaN    NaN\n",
              "185662      C       199995  053  034   26  24  44   181  NaN      NaN    NaN\n",
              "185663      C       199996  051  038   24  15  41   169  NaN      NaN    NaN\n",
              "185664      C       199997  049  039   12  20  24   144  NaN      NaN    NaN\n",
              "185665      C       199998  033  036   22  15  35   141  NaN      NaN    NaN\n",
              "185666      C       199999  017  014   15  14  20    80  NaN      NaN    NaN"
            ]
          },
          "metadata": {},
          "execution_count": 230
        }
      ]
    },
    {
      "cell_type": "markdown",
      "metadata": {
        "id": "636e0482"
      },
      "source": [
        "### General attributes of dataframe"
      ],
      "id": "636e0482"
    },
    {
      "cell_type": "code",
      "metadata": {
        "id": "ffe0774e",
        "colab": {
          "base_uri": "https://localhost:8080/"
        },
        "outputId": "86086163-5e25-4f82-d1ea-b2f3e2dba49f"
      },
      "source": [
        "# returns number of data(cells) in the dataframe\n",
        "sslc.size"
      ],
      "id": "ffe0774e",
      "execution_count": null,
      "outputs": [
        {
          "output_type": "execute_result",
          "data": {
            "text/plain": [
              "681087"
            ]
          },
          "metadata": {},
          "execution_count": 259
        }
      ]
    },
    {
      "cell_type": "code",
      "metadata": {
        "id": "dc63f2ee",
        "colab": {
          "base_uri": "https://localhost:8080/"
        },
        "outputId": "36346698-8220-4bac-acd2-b9d1cd3f5620"
      },
      "source": [
        "# returns the number of non-null values in each column\n",
        "sslc.count()"
      ],
      "id": "dc63f2ee",
      "execution_count": null,
      "outputs": [
        {
          "output_type": "execute_result",
          "data": {
            "text/plain": [
              "region         61917\n",
              "roll_number    61917\n",
              "fl             61916\n",
              "sl             61916\n",
              "math           61916\n",
              "sci            61916\n",
              "ss             61916\n",
              "total          61916\n",
              "pass           52080\n",
              "withheld          45\n",
              "extra              0\n",
              "dtype: int64"
            ]
          },
          "metadata": {},
          "execution_count": 260
        }
      ]
    },
    {
      "cell_type": "code",
      "metadata": {
        "id": "00c49166",
        "colab": {
          "base_uri": "https://localhost:8080/"
        },
        "outputId": "66d62257-35a7-4c3b-8a0e-8b4c4aeb288e"
      },
      "source": [
        "# Return a tuple of the number of records(rows) and number of attributes (columns)\n",
        "sslc.shape"
      ],
      "id": "00c49166",
      "execution_count": null,
      "outputs": [
        {
          "output_type": "execute_result",
          "data": {
            "text/plain": [
              "(61917, 11)"
            ]
          },
          "metadata": {},
          "execution_count": 261
        }
      ]
    },
    {
      "cell_type": "code",
      "metadata": {
        "id": "507f88a8",
        "colab": {
          "base_uri": "https://localhost:8080/"
        },
        "outputId": "cb9f07d8-20a0-4acb-a9af-8488a7c1567c"
      },
      "source": [
        "# Return number of dimensions of the dataframe\n",
        "sslc.ndim"
      ],
      "id": "507f88a8",
      "execution_count": null,
      "outputs": [
        {
          "output_type": "execute_result",
          "data": {
            "text/plain": [
              "2"
            ]
          },
          "metadata": {},
          "execution_count": 262
        }
      ]
    },
    {
      "cell_type": "markdown",
      "metadata": {
        "id": "cdc03a05"
      },
      "source": [
        "#### Summary about dataframe"
      ],
      "id": "cdc03a05"
    },
    {
      "cell_type": "code",
      "metadata": {
        "scrolled": true,
        "id": "66f2c97e",
        "colab": {
          "base_uri": "https://localhost:8080/"
        },
        "outputId": "51295300-daf7-4ef3-ba70-278fec0c0258"
      },
      "source": [
        "sslc.info()"
      ],
      "id": "66f2c97e",
      "execution_count": null,
      "outputs": [
        {
          "output_type": "stream",
          "name": "stdout",
          "text": [
            "<class 'pandas.core.frame.DataFrame'>\n",
            "RangeIndex: 61917 entries, 0 to 61916\n",
            "Data columns (total 11 columns):\n",
            " #   Column       Non-Null Count  Dtype  \n",
            "---  ------       --------------  -----  \n",
            " 0   region       61917 non-null  object \n",
            " 1   roll_number  61917 non-null  int64  \n",
            " 2   fl           61916 non-null  object \n",
            " 3   sl           61916 non-null  object \n",
            " 4   math         61916 non-null  object \n",
            " 5   sci          61916 non-null  object \n",
            " 6   ss           61916 non-null  object \n",
            " 7   total        61916 non-null  float64\n",
            " 8   pass         52080 non-null  object \n",
            " 9   withheld     45 non-null     object \n",
            " 10  extra        0 non-null      float64\n",
            "dtypes: float64(2), int64(1), object(8)\n",
            "memory usage: 5.2+ MB\n"
          ]
        }
      ]
    },
    {
      "cell_type": "code",
      "metadata": {
        "colab": {
          "base_uri": "https://localhost:8080/"
        },
        "id": "i0CIthjGPf0i",
        "outputId": "be63d8ab-ce8c-4d5e-84b0-013de961b9ab"
      },
      "source": [
        "# number of unique values in each column of dataframe\n",
        "sslc.nunique()"
      ],
      "id": "i0CIthjGPf0i",
      "execution_count": null,
      "outputs": [
        {
          "output_type": "execute_result",
          "data": {
            "text/plain": [
              "region             6\n",
              "roll_number    61917\n",
              "fl                96\n",
              "sl                94\n",
              "math              99\n",
              "sci               96\n",
              "ss                95\n",
              "total            449\n",
              "pass               1\n",
              "withheld           1\n",
              "extra              0\n",
              "dtype: int64"
            ]
          },
          "metadata": {},
          "execution_count": 264
        }
      ]
    },
    {
      "cell_type": "markdown",
      "metadata": {
        "id": "05170165"
      },
      "source": [
        "#### Statistical Description about Dataframe\n",
        "<ul>\n",
        "    <li>By default it shows only for numerical attributes</li>\n",
        "    <li>Keyword arguments shall be given to specifically display attributes</li>\n",
        "    <li>For categorical attributes count,unique,top,freq are displayed</li>\n",
        "</ul>\n",
        "    \n"
      ],
      "id": "05170165"
    },
    {
      "cell_type": "code",
      "metadata": {
        "id": "f3795367",
        "colab": {
          "base_uri": "https://localhost:8080/",
          "height": 300
        },
        "outputId": "51d7d58a-f0c1-4ceb-aa20-e580e1ef5e22"
      },
      "source": [
        "sslc.describe()"
      ],
      "id": "f3795367",
      "execution_count": null,
      "outputs": [
        {
          "output_type": "execute_result",
          "data": {
            "text/html": [
              "<div>\n",
              "<style scoped>\n",
              "    .dataframe tbody tr th:only-of-type {\n",
              "        vertical-align: middle;\n",
              "    }\n",
              "\n",
              "    .dataframe tbody tr th {\n",
              "        vertical-align: top;\n",
              "    }\n",
              "\n",
              "    .dataframe thead th {\n",
              "        text-align: right;\n",
              "    }\n",
              "</style>\n",
              "<table border=\"1\" class=\"dataframe\">\n",
              "  <thead>\n",
              "    <tr style=\"text-align: right;\">\n",
              "      <th></th>\n",
              "      <th>roll_number</th>\n",
              "      <th>total</th>\n",
              "      <th>extra</th>\n",
              "    </tr>\n",
              "  </thead>\n",
              "  <tbody>\n",
              "    <tr>\n",
              "      <th>count</th>\n",
              "      <td>61917.000000</td>\n",
              "      <td>61916.000000</td>\n",
              "      <td>0.0</td>\n",
              "    </tr>\n",
              "    <tr>\n",
              "      <th>mean</th>\n",
              "      <td>41547.339406</td>\n",
              "      <td>300.737709</td>\n",
              "      <td>NaN</td>\n",
              "    </tr>\n",
              "    <tr>\n",
              "      <th>std</th>\n",
              "      <td>18203.837627</td>\n",
              "      <td>83.315593</td>\n",
              "      <td>NaN</td>\n",
              "    </tr>\n",
              "    <tr>\n",
              "      <th>min</th>\n",
              "      <td>73.000000</td>\n",
              "      <td>0.000000</td>\n",
              "      <td>NaN</td>\n",
              "    </tr>\n",
              "    <tr>\n",
              "      <th>25%</th>\n",
              "      <td>25808.000000</td>\n",
              "      <td>240.000000</td>\n",
              "      <td>NaN</td>\n",
              "    </tr>\n",
              "    <tr>\n",
              "      <th>50%</th>\n",
              "      <td>41541.000000</td>\n",
              "      <td>299.000000</td>\n",
              "      <td>NaN</td>\n",
              "    </tr>\n",
              "    <tr>\n",
              "      <th>75%</th>\n",
              "      <td>57334.000000</td>\n",
              "      <td>366.000000</td>\n",
              "      <td>NaN</td>\n",
              "    </tr>\n",
              "    <tr>\n",
              "      <th>max</th>\n",
              "      <td>73062.000000</td>\n",
              "      <td>488.000000</td>\n",
              "      <td>NaN</td>\n",
              "    </tr>\n",
              "  </tbody>\n",
              "</table>\n",
              "</div>"
            ],
            "text/plain": [
              "        roll_number         total  extra\n",
              "count  61917.000000  61916.000000    0.0\n",
              "mean   41547.339406    300.737709    NaN\n",
              "std    18203.837627     83.315593    NaN\n",
              "min       73.000000      0.000000    NaN\n",
              "25%    25808.000000    240.000000    NaN\n",
              "50%    41541.000000    299.000000    NaN\n",
              "75%    57334.000000    366.000000    NaN\n",
              "max    73062.000000    488.000000    NaN"
            ]
          },
          "metadata": {},
          "execution_count": 265
        }
      ]
    },
    {
      "cell_type": "code",
      "metadata": {
        "id": "3b0a65bf",
        "colab": {
          "base_uri": "https://localhost:8080/",
          "height": 175
        },
        "outputId": "46302f74-2862-4d10-8f31-8101ea8d6856"
      },
      "source": [
        "sslc.describe(include=[object])"
      ],
      "id": "3b0a65bf",
      "execution_count": null,
      "outputs": [
        {
          "output_type": "execute_result",
          "data": {
            "text/html": [
              "<div>\n",
              "<style scoped>\n",
              "    .dataframe tbody tr th:only-of-type {\n",
              "        vertical-align: middle;\n",
              "    }\n",
              "\n",
              "    .dataframe tbody tr th {\n",
              "        vertical-align: top;\n",
              "    }\n",
              "\n",
              "    .dataframe thead th {\n",
              "        text-align: right;\n",
              "    }\n",
              "</style>\n",
              "<table border=\"1\" class=\"dataframe\">\n",
              "  <thead>\n",
              "    <tr style=\"text-align: right;\">\n",
              "      <th></th>\n",
              "      <th>region</th>\n",
              "      <th>fl</th>\n",
              "      <th>sl</th>\n",
              "      <th>math</th>\n",
              "      <th>sci</th>\n",
              "      <th>ss</th>\n",
              "      <th>pass</th>\n",
              "      <th>withheld</th>\n",
              "    </tr>\n",
              "  </thead>\n",
              "  <tbody>\n",
              "    <tr>\n",
              "      <th>count</th>\n",
              "      <td>61917</td>\n",
              "      <td>61916</td>\n",
              "      <td>61916</td>\n",
              "      <td>61916</td>\n",
              "      <td>61916</td>\n",
              "      <td>61916</td>\n",
              "      <td>52080</td>\n",
              "      <td>45</td>\n",
              "    </tr>\n",
              "    <tr>\n",
              "      <th>unique</th>\n",
              "      <td>6</td>\n",
              "      <td>96</td>\n",
              "      <td>94</td>\n",
              "      <td>99</td>\n",
              "      <td>96</td>\n",
              "      <td>95</td>\n",
              "      <td>1</td>\n",
              "      <td>1</td>\n",
              "    </tr>\n",
              "    <tr>\n",
              "      <th>top</th>\n",
              "      <td>A</td>\n",
              "      <td>084</td>\n",
              "      <td>035</td>\n",
              "      <td>35</td>\n",
              "      <td>35</td>\n",
              "      <td>35</td>\n",
              "      <td>P</td>\n",
              "      <td>W</td>\n",
              "    </tr>\n",
              "    <tr>\n",
              "      <th>freq</th>\n",
              "      <td>14036</td>\n",
              "      <td>1928</td>\n",
              "      <td>2061</td>\n",
              "      <td>4259</td>\n",
              "      <td>9354</td>\n",
              "      <td>2209</td>\n",
              "      <td>52080</td>\n",
              "      <td>45</td>\n",
              "    </tr>\n",
              "  </tbody>\n",
              "</table>\n",
              "</div>"
            ],
            "text/plain": [
              "       region     fl     sl   math    sci     ss   pass withheld\n",
              "count   61917  61916  61916  61916  61916  61916  52080       45\n",
              "unique      6     96     94     99     96     95      1        1\n",
              "top         A    084    035     35     35     35      P        W\n",
              "freq    14036   1928   2061   4259   9354   2209  52080       45"
            ]
          },
          "metadata": {},
          "execution_count": 266
        }
      ]
    },
    {
      "cell_type": "code",
      "metadata": {
        "id": "0f72d880",
        "colab": {
          "base_uri": "https://localhost:8080/",
          "height": 300
        },
        "outputId": "a8b49250-9d6a-481e-b782-eb2b515cc963"
      },
      "source": [
        "sslc.describe(exclude=[object])"
      ],
      "id": "0f72d880",
      "execution_count": null,
      "outputs": [
        {
          "output_type": "execute_result",
          "data": {
            "text/html": [
              "<div>\n",
              "<style scoped>\n",
              "    .dataframe tbody tr th:only-of-type {\n",
              "        vertical-align: middle;\n",
              "    }\n",
              "\n",
              "    .dataframe tbody tr th {\n",
              "        vertical-align: top;\n",
              "    }\n",
              "\n",
              "    .dataframe thead th {\n",
              "        text-align: right;\n",
              "    }\n",
              "</style>\n",
              "<table border=\"1\" class=\"dataframe\">\n",
              "  <thead>\n",
              "    <tr style=\"text-align: right;\">\n",
              "      <th></th>\n",
              "      <th>roll_number</th>\n",
              "      <th>total</th>\n",
              "      <th>extra</th>\n",
              "    </tr>\n",
              "  </thead>\n",
              "  <tbody>\n",
              "    <tr>\n",
              "      <th>count</th>\n",
              "      <td>61917.000000</td>\n",
              "      <td>61916.000000</td>\n",
              "      <td>0.0</td>\n",
              "    </tr>\n",
              "    <tr>\n",
              "      <th>mean</th>\n",
              "      <td>41547.339406</td>\n",
              "      <td>300.737709</td>\n",
              "      <td>NaN</td>\n",
              "    </tr>\n",
              "    <tr>\n",
              "      <th>std</th>\n",
              "      <td>18203.837627</td>\n",
              "      <td>83.315593</td>\n",
              "      <td>NaN</td>\n",
              "    </tr>\n",
              "    <tr>\n",
              "      <th>min</th>\n",
              "      <td>73.000000</td>\n",
              "      <td>0.000000</td>\n",
              "      <td>NaN</td>\n",
              "    </tr>\n",
              "    <tr>\n",
              "      <th>25%</th>\n",
              "      <td>25808.000000</td>\n",
              "      <td>240.000000</td>\n",
              "      <td>NaN</td>\n",
              "    </tr>\n",
              "    <tr>\n",
              "      <th>50%</th>\n",
              "      <td>41541.000000</td>\n",
              "      <td>299.000000</td>\n",
              "      <td>NaN</td>\n",
              "    </tr>\n",
              "    <tr>\n",
              "      <th>75%</th>\n",
              "      <td>57334.000000</td>\n",
              "      <td>366.000000</td>\n",
              "      <td>NaN</td>\n",
              "    </tr>\n",
              "    <tr>\n",
              "      <th>max</th>\n",
              "      <td>73062.000000</td>\n",
              "      <td>488.000000</td>\n",
              "      <td>NaN</td>\n",
              "    </tr>\n",
              "  </tbody>\n",
              "</table>\n",
              "</div>"
            ],
            "text/plain": [
              "        roll_number         total  extra\n",
              "count  61917.000000  61916.000000    0.0\n",
              "mean   41547.339406    300.737709    NaN\n",
              "std    18203.837627     83.315593    NaN\n",
              "min       73.000000      0.000000    NaN\n",
              "25%    25808.000000    240.000000    NaN\n",
              "50%    41541.000000    299.000000    NaN\n",
              "75%    57334.000000    366.000000    NaN\n",
              "max    73062.000000    488.000000    NaN"
            ]
          },
          "metadata": {},
          "execution_count": 268
        }
      ]
    },
    {
      "cell_type": "code",
      "metadata": {
        "scrolled": true,
        "id": "bd688651",
        "colab": {
          "base_uri": "https://localhost:8080/",
          "height": 414
        },
        "outputId": "f449e528-af6f-4350-edbb-5ba4295899ee"
      },
      "source": [
        "sslc.describe(include='all')"
      ],
      "id": "bd688651",
      "execution_count": null,
      "outputs": [
        {
          "output_type": "execute_result",
          "data": {
            "text/html": [
              "<div>\n",
              "<style scoped>\n",
              "    .dataframe tbody tr th:only-of-type {\n",
              "        vertical-align: middle;\n",
              "    }\n",
              "\n",
              "    .dataframe tbody tr th {\n",
              "        vertical-align: top;\n",
              "    }\n",
              "\n",
              "    .dataframe thead th {\n",
              "        text-align: right;\n",
              "    }\n",
              "</style>\n",
              "<table border=\"1\" class=\"dataframe\">\n",
              "  <thead>\n",
              "    <tr style=\"text-align: right;\">\n",
              "      <th></th>\n",
              "      <th>region</th>\n",
              "      <th>roll_number</th>\n",
              "      <th>fl</th>\n",
              "      <th>sl</th>\n",
              "      <th>math</th>\n",
              "      <th>sci</th>\n",
              "      <th>ss</th>\n",
              "      <th>total</th>\n",
              "      <th>pass</th>\n",
              "      <th>withheld</th>\n",
              "      <th>extra</th>\n",
              "    </tr>\n",
              "  </thead>\n",
              "  <tbody>\n",
              "    <tr>\n",
              "      <th>count</th>\n",
              "      <td>61917</td>\n",
              "      <td>61917.000000</td>\n",
              "      <td>61916</td>\n",
              "      <td>61916</td>\n",
              "      <td>61916</td>\n",
              "      <td>61916</td>\n",
              "      <td>61916</td>\n",
              "      <td>61916.000000</td>\n",
              "      <td>52080</td>\n",
              "      <td>45</td>\n",
              "      <td>0.0</td>\n",
              "    </tr>\n",
              "    <tr>\n",
              "      <th>unique</th>\n",
              "      <td>6</td>\n",
              "      <td>NaN</td>\n",
              "      <td>96</td>\n",
              "      <td>94</td>\n",
              "      <td>99</td>\n",
              "      <td>96</td>\n",
              "      <td>95</td>\n",
              "      <td>NaN</td>\n",
              "      <td>1</td>\n",
              "      <td>1</td>\n",
              "      <td>NaN</td>\n",
              "    </tr>\n",
              "    <tr>\n",
              "      <th>top</th>\n",
              "      <td>A</td>\n",
              "      <td>NaN</td>\n",
              "      <td>084</td>\n",
              "      <td>035</td>\n",
              "      <td>35</td>\n",
              "      <td>35</td>\n",
              "      <td>35</td>\n",
              "      <td>NaN</td>\n",
              "      <td>P</td>\n",
              "      <td>W</td>\n",
              "      <td>NaN</td>\n",
              "    </tr>\n",
              "    <tr>\n",
              "      <th>freq</th>\n",
              "      <td>14036</td>\n",
              "      <td>NaN</td>\n",
              "      <td>1928</td>\n",
              "      <td>2061</td>\n",
              "      <td>4259</td>\n",
              "      <td>9354</td>\n",
              "      <td>2209</td>\n",
              "      <td>NaN</td>\n",
              "      <td>52080</td>\n",
              "      <td>45</td>\n",
              "      <td>NaN</td>\n",
              "    </tr>\n",
              "    <tr>\n",
              "      <th>mean</th>\n",
              "      <td>NaN</td>\n",
              "      <td>41547.339406</td>\n",
              "      <td>NaN</td>\n",
              "      <td>NaN</td>\n",
              "      <td>NaN</td>\n",
              "      <td>NaN</td>\n",
              "      <td>NaN</td>\n",
              "      <td>300.737709</td>\n",
              "      <td>NaN</td>\n",
              "      <td>NaN</td>\n",
              "      <td>NaN</td>\n",
              "    </tr>\n",
              "    <tr>\n",
              "      <th>std</th>\n",
              "      <td>NaN</td>\n",
              "      <td>18203.837627</td>\n",
              "      <td>NaN</td>\n",
              "      <td>NaN</td>\n",
              "      <td>NaN</td>\n",
              "      <td>NaN</td>\n",
              "      <td>NaN</td>\n",
              "      <td>83.315593</td>\n",
              "      <td>NaN</td>\n",
              "      <td>NaN</td>\n",
              "      <td>NaN</td>\n",
              "    </tr>\n",
              "    <tr>\n",
              "      <th>min</th>\n",
              "      <td>NaN</td>\n",
              "      <td>73.000000</td>\n",
              "      <td>NaN</td>\n",
              "      <td>NaN</td>\n",
              "      <td>NaN</td>\n",
              "      <td>NaN</td>\n",
              "      <td>NaN</td>\n",
              "      <td>0.000000</td>\n",
              "      <td>NaN</td>\n",
              "      <td>NaN</td>\n",
              "      <td>NaN</td>\n",
              "    </tr>\n",
              "    <tr>\n",
              "      <th>25%</th>\n",
              "      <td>NaN</td>\n",
              "      <td>25808.000000</td>\n",
              "      <td>NaN</td>\n",
              "      <td>NaN</td>\n",
              "      <td>NaN</td>\n",
              "      <td>NaN</td>\n",
              "      <td>NaN</td>\n",
              "      <td>240.000000</td>\n",
              "      <td>NaN</td>\n",
              "      <td>NaN</td>\n",
              "      <td>NaN</td>\n",
              "    </tr>\n",
              "    <tr>\n",
              "      <th>50%</th>\n",
              "      <td>NaN</td>\n",
              "      <td>41541.000000</td>\n",
              "      <td>NaN</td>\n",
              "      <td>NaN</td>\n",
              "      <td>NaN</td>\n",
              "      <td>NaN</td>\n",
              "      <td>NaN</td>\n",
              "      <td>299.000000</td>\n",
              "      <td>NaN</td>\n",
              "      <td>NaN</td>\n",
              "      <td>NaN</td>\n",
              "    </tr>\n",
              "    <tr>\n",
              "      <th>75%</th>\n",
              "      <td>NaN</td>\n",
              "      <td>57334.000000</td>\n",
              "      <td>NaN</td>\n",
              "      <td>NaN</td>\n",
              "      <td>NaN</td>\n",
              "      <td>NaN</td>\n",
              "      <td>NaN</td>\n",
              "      <td>366.000000</td>\n",
              "      <td>NaN</td>\n",
              "      <td>NaN</td>\n",
              "      <td>NaN</td>\n",
              "    </tr>\n",
              "    <tr>\n",
              "      <th>max</th>\n",
              "      <td>NaN</td>\n",
              "      <td>73062.000000</td>\n",
              "      <td>NaN</td>\n",
              "      <td>NaN</td>\n",
              "      <td>NaN</td>\n",
              "      <td>NaN</td>\n",
              "      <td>NaN</td>\n",
              "      <td>488.000000</td>\n",
              "      <td>NaN</td>\n",
              "      <td>NaN</td>\n",
              "      <td>NaN</td>\n",
              "    </tr>\n",
              "  </tbody>\n",
              "</table>\n",
              "</div>"
            ],
            "text/plain": [
              "       region   roll_number     fl     sl  ...         total   pass withheld  extra\n",
              "count   61917  61917.000000  61916  61916  ...  61916.000000  52080       45    0.0\n",
              "unique      6           NaN     96     94  ...           NaN      1        1    NaN\n",
              "top         A           NaN    084    035  ...           NaN      P        W    NaN\n",
              "freq    14036           NaN   1928   2061  ...           NaN  52080       45    NaN\n",
              "mean      NaN  41547.339406    NaN    NaN  ...    300.737709    NaN      NaN    NaN\n",
              "std       NaN  18203.837627    NaN    NaN  ...     83.315593    NaN      NaN    NaN\n",
              "min       NaN     73.000000    NaN    NaN  ...      0.000000    NaN      NaN    NaN\n",
              "25%       NaN  25808.000000    NaN    NaN  ...    240.000000    NaN      NaN    NaN\n",
              "50%       NaN  41541.000000    NaN    NaN  ...    299.000000    NaN      NaN    NaN\n",
              "75%       NaN  57334.000000    NaN    NaN  ...    366.000000    NaN      NaN    NaN\n",
              "max       NaN  73062.000000    NaN    NaN  ...    488.000000    NaN      NaN    NaN\n",
              "\n",
              "[11 rows x 11 columns]"
            ]
          },
          "metadata": {},
          "execution_count": 269
        }
      ]
    },
    {
      "cell_type": "markdown",
      "metadata": {
        "id": "9fb089b2"
      },
      "source": [
        "### Number of bytes consumed"
      ],
      "id": "9fb089b2"
    },
    {
      "cell_type": "markdown",
      "metadata": {
        "id": "0851e085"
      },
      "source": [
        "#### By DataFrame"
      ],
      "id": "0851e085"
    },
    {
      "cell_type": "code",
      "metadata": {
        "scrolled": true,
        "id": "e7cfa638",
        "colab": {
          "base_uri": "https://localhost:8080/"
        },
        "outputId": "889e3a77-eb51-4742-cc01-9027445790f8"
      },
      "source": [
        "sslc.memory_usage()"
      ],
      "id": "e7cfa638",
      "execution_count": null,
      "outputs": [
        {
          "output_type": "execute_result",
          "data": {
            "text/plain": [
              "Index             128\n",
              "region         495336\n",
              "roll_number    495336\n",
              "fl             495336\n",
              "sl             495336\n",
              "math           495336\n",
              "sci            495336\n",
              "ss             495336\n",
              "total          495336\n",
              "pass           495336\n",
              "withheld       495336\n",
              "extra          495336\n",
              "dtype: int64"
            ]
          },
          "metadata": {},
          "execution_count": 270
        }
      ]
    },
    {
      "cell_type": "markdown",
      "metadata": {
        "id": "9766489b"
      },
      "source": [
        "#### By a Specific Columns"
      ],
      "id": "9766489b"
    },
    {
      "cell_type": "code",
      "metadata": {
        "id": "a6c17f43",
        "colab": {
          "base_uri": "https://localhost:8080/"
        },
        "outputId": "20c8e069-f745-4723-97a9-6ab7f09567de"
      },
      "source": [
        "sslc['pass'].nbytes"
      ],
      "id": "a6c17f43",
      "execution_count": null,
      "outputs": [
        {
          "output_type": "execute_result",
          "data": {
            "text/plain": [
              "495336"
            ]
          },
          "metadata": {},
          "execution_count": 271
        }
      ]
    },
    {
      "cell_type": "markdown",
      "metadata": {
        "id": "925b29cb"
      },
      "source": [
        "#### Accessing a Column"
      ],
      "id": "925b29cb"
    },
    {
      "cell_type": "code",
      "metadata": {
        "id": "bcca071a",
        "colab": {
          "base_uri": "https://localhost:8080/"
        },
        "outputId": "5554b668-c268-4311-f92b-9581fcd0efa8"
      },
      "source": [
        "#Square brackets\n",
        "sslc['region']"
      ],
      "id": "bcca071a",
      "execution_count": null,
      "outputs": [
        {
          "output_type": "execute_result",
          "data": {
            "text/plain": [
              "0        A\n",
              "1        A\n",
              "2        A\n",
              "3        A\n",
              "4        A\n",
              "        ..\n",
              "61912    A\n",
              "61913    A\n",
              "61914    A\n",
              "61915    A\n",
              "61916    A\n",
              "Name: region, Length: 61917, dtype: object"
            ]
          },
          "metadata": {},
          "execution_count": 272
        }
      ]
    },
    {
      "cell_type": "code",
      "metadata": {
        "id": "2d2d3e14",
        "colab": {
          "base_uri": "https://localhost:8080/"
        },
        "outputId": "8911700e-a03a-4013-f425-d03741f471b4"
      },
      "source": [
        "#Print all column names\n",
        "sslc.columns"
      ],
      "id": "2d2d3e14",
      "execution_count": null,
      "outputs": [
        {
          "output_type": "execute_result",
          "data": {
            "text/plain": [
              "Index(['region', 'roll_number', 'fl', 'sl', 'math', 'sci', 'ss', 'total',\n",
              "       'pass', 'withheld', 'extra'],\n",
              "      dtype='object')"
            ]
          },
          "metadata": {},
          "execution_count": 273
        }
      ]
    },
    {
      "cell_type": "code",
      "metadata": {
        "id": "2952df4b",
        "colab": {
          "base_uri": "https://localhost:8080/"
        },
        "outputId": "b9657396-e51e-4741-9beb-ac8d3be609f2"
      },
      "source": [
        "#Dot operator\n",
        "sslc.withheld"
      ],
      "id": "2952df4b",
      "execution_count": null,
      "outputs": [
        {
          "output_type": "execute_result",
          "data": {
            "text/plain": [
              "0        NaN\n",
              "1        NaN\n",
              "2        NaN\n",
              "3        NaN\n",
              "4        NaN\n",
              "        ... \n",
              "61912    NaN\n",
              "61913    NaN\n",
              "61914    NaN\n",
              "61915    NaN\n",
              "61916    NaN\n",
              "Name: withheld, Length: 61917, dtype: object"
            ]
          },
          "metadata": {},
          "execution_count": 274
        }
      ]
    },
    {
      "cell_type": "markdown",
      "metadata": {
        "id": "5fefcbeb"
      },
      "source": [
        "#### Reterving rows"
      ],
      "id": "5fefcbeb"
    },
    {
      "cell_type": "markdown",
      "metadata": {
        "id": "31c7c655"
      },
      "source": [
        "#### By default numerical index given by Pandas"
      ],
      "id": "31c7c655"
    },
    {
      "cell_type": "code",
      "metadata": {
        "id": "f9d00322",
        "colab": {
          "base_uri": "https://localhost:8080/"
        },
        "outputId": "fba304c7-7743-4723-91f0-03d89d90c2fc"
      },
      "source": [
        "# print details in first row\n",
        "sslc.iloc[0]"
      ],
      "id": "f9d00322",
      "execution_count": null,
      "outputs": [
        {
          "output_type": "execute_result",
          "data": {
            "text/plain": [
              "region             A\n",
              "roll_number    10001\n",
              "fl               053\n",
              "sl               036\n",
              "math              28\n",
              "sci               16\n",
              "ss                44\n",
              "total            177\n",
              "pass             NaN\n",
              "withheld         NaN\n",
              "extra            NaN\n",
              "Name: 0, dtype: object"
            ]
          },
          "metadata": {},
          "execution_count": 275
        }
      ]
    },
    {
      "cell_type": "markdown",
      "metadata": {
        "id": "08b8a4e3"
      },
      "source": [
        "#### Change index of dataframe"
      ],
      "id": "08b8a4e3"
    },
    {
      "cell_type": "code",
      "metadata": {
        "id": "e94429c0"
      },
      "source": [
        "sslc.set_index('roll_number',inplace=True)"
      ],
      "id": "e94429c0",
      "execution_count": null,
      "outputs": []
    },
    {
      "cell_type": "markdown",
      "metadata": {
        "id": "7829746f"
      },
      "source": [
        "#### Access row by index column specified by user"
      ],
      "id": "7829746f"
    },
    {
      "cell_type": "code",
      "metadata": {
        "id": "5c67c77c",
        "colab": {
          "base_uri": "https://localhost:8080/"
        },
        "outputId": "1697dfac-85b3-4d74-cc9d-57ea09634390"
      },
      "source": [
        "sslc.loc[10001]"
      ],
      "id": "5c67c77c",
      "execution_count": null,
      "outputs": [
        {
          "output_type": "execute_result",
          "data": {
            "text/plain": [
              "region        A\n",
              "fl          053\n",
              "sl          036\n",
              "math         28\n",
              "sci          16\n",
              "ss           44\n",
              "total       177\n",
              "pass        NaN\n",
              "withheld    NaN\n",
              "extra       NaN\n",
              "Name: 10001, dtype: object"
            ]
          },
          "metadata": {},
          "execution_count": 279
        }
      ]
    },
    {
      "cell_type": "code",
      "metadata": {
        "colab": {
          "base_uri": "https://localhost:8080/"
        },
        "id": "AHBw8_KRj0Kl",
        "outputId": "08fd2880-2b4c-455d-b269-1c61555fc9e1"
      },
      "source": [
        "sslc.iloc[0]"
      ],
      "id": "AHBw8_KRj0Kl",
      "execution_count": null,
      "outputs": [
        {
          "output_type": "execute_result",
          "data": {
            "text/plain": [
              "region        A\n",
              "fl          053\n",
              "sl          036\n",
              "math         28\n",
              "sci          16\n",
              "ss           44\n",
              "total       177\n",
              "pass        NaN\n",
              "withheld    NaN\n",
              "extra       NaN\n",
              "Name: 10001, dtype: object"
            ]
          },
          "metadata": {},
          "execution_count": 280
        }
      ]
    },
    {
      "cell_type": "markdown",
      "metadata": {
        "id": "342065a6"
      },
      "source": [
        "### Accessing a data in dataframe"
      ],
      "id": "342065a6"
    },
    {
      "cell_type": "markdown",
      "metadata": {
        "id": "cac104a3"
      },
      "source": [
        "#### Using row and column indices given by Pandas"
      ],
      "id": "cac104a3"
    },
    {
      "cell_type": "code",
      "metadata": {
        "colab": {
          "base_uri": "https://localhost:8080/",
          "height": 35
        },
        "id": "4TSm_qzgKUbT",
        "outputId": "fd2dd0c3-b591-4f80-ff27-0113dd1a4042"
      },
      "source": [
        "sslc.iat[0,1]"
      ],
      "id": "4TSm_qzgKUbT",
      "execution_count": null,
      "outputs": [
        {
          "output_type": "execute_result",
          "data": {
            "application/vnd.google.colaboratory.intrinsic+json": {
              "type": "string"
            },
            "text/plain": [
              "'053'"
            ]
          },
          "metadata": {},
          "execution_count": 281
        }
      ]
    },
    {
      "cell_type": "markdown",
      "metadata": {
        "id": "f489db3c"
      },
      "source": [
        "#### Using indices specified by programmer"
      ],
      "id": "f489db3c"
    },
    {
      "cell_type": "code",
      "metadata": {
        "id": "14c74589",
        "colab": {
          "base_uri": "https://localhost:8080/",
          "height": 35
        },
        "outputId": "0607d65e-b457-4fb9-fe33-7044eb142ea4"
      },
      "source": [
        "sslc.at[10001,'fl']"
      ],
      "id": "14c74589",
      "execution_count": null,
      "outputs": [
        {
          "output_type": "execute_result",
          "data": {
            "application/vnd.google.colaboratory.intrinsic+json": {
              "type": "string"
            },
            "text/plain": [
              "'053'"
            ]
          },
          "metadata": {},
          "execution_count": 282
        }
      ]
    },
    {
      "cell_type": "code",
      "metadata": {
        "colab": {
          "base_uri": "https://localhost:8080/"
        },
        "id": "NqJ3ctZ2MxYV",
        "outputId": "81a97e5c-60ae-4963-ef0e-2d4147e312f6"
      },
      "source": [
        "# find number of null values in each column of the dataframe\n",
        "sslc.isnull().sum()"
      ],
      "id": "NqJ3ctZ2MxYV",
      "execution_count": null,
      "outputs": [
        {
          "output_type": "execute_result",
          "data": {
            "text/plain": [
              "region          0\n",
              "fl              1\n",
              "sl              1\n",
              "math            1\n",
              "sci             1\n",
              "ss              1\n",
              "total           1\n",
              "pass         9837\n",
              "withheld    61872\n",
              "extra       61917\n",
              "dtype: int64"
            ]
          },
          "metadata": {},
          "execution_count": 283
        }
      ]
    },
    {
      "cell_type": "code",
      "metadata": {
        "colab": {
          "base_uri": "https://localhost:8080/"
        },
        "id": "RlQhVs7ZPCio",
        "outputId": "b4b6c1e6-7f7f-40cd-8c56-ad429e10523a"
      },
      "source": [
        "sslc['fl'].unique()"
      ],
      "id": "RlQhVs7ZPCio",
      "execution_count": null,
      "outputs": [
        {
          "output_type": "execute_result",
          "data": {
            "text/plain": [
              "array(['053', '058', '072', '087', '059', '044', '062', '043', '049',\n",
              "       '055', '048', '045', '083', '046', '037', '030', '050', '042',\n",
              "       '067', '076', '074', '051', '056', '073', '071', '068', '069',\n",
              "       '047', '064', '082', '079', '075', '086', '077', '054', '041',\n",
              "       '078', '063', '084', '080', '085', '065', '090', '093', '092',\n",
              "       '089', '081', '033', '070', '066', '060', '052', '034', '057',\n",
              "       '021', '039', '036', '026', '032', '035', '040', '017', '027',\n",
              "       '061', '024', '028', '088', '031', '029', '025', '038', '091',\n",
              "       '094', '096', '095', '022', '019', '014', '016', '018', '023',\n",
              "       '011', '012', '015', '004', '013', '010', '009', '020', '097',\n",
              "       '006', '005', '007', '008', 'AA', '098', nan], dtype=object)"
            ]
          },
          "metadata": {},
          "execution_count": 284
        }
      ]
    },
    {
      "cell_type": "markdown",
      "metadata": {
        "id": "0cc8def9"
      },
      "source": [
        "#### Replace a value"
      ],
      "id": "0cc8def9"
    },
    {
      "cell_type": "code",
      "metadata": {
        "id": "0ceced45"
      },
      "source": [
        "sslc['fl'].replace('AA',np.nan,inplace=True)\n",
        "sslc['sl'].replace('AA',np.nan,inplace=True)\n",
        "sslc['math'].replace('AA',np.nan,inplace=True)\n",
        "sslc['sci'].replace('AA',np.nan,inplace=True)\n",
        "sslc['ss'].replace('AA',np.nan,inplace=True)\n",
        "sslc['total'].replace('AA',np.nan,inplace=True)"
      ],
      "id": "0ceced45",
      "execution_count": null,
      "outputs": []
    },
    {
      "cell_type": "markdown",
      "metadata": {
        "id": "6280d2d4"
      },
      "source": [
        "#### Find unique values in a column"
      ],
      "id": "6280d2d4"
    },
    {
      "cell_type": "code",
      "metadata": {
        "id": "226000cb",
        "colab": {
          "base_uri": "https://localhost:8080/"
        },
        "outputId": "eed79b78-76da-431f-c094-58cefdf3eeba"
      },
      "source": [
        "sslc['sl'].unique()"
      ],
      "id": "226000cb",
      "execution_count": null,
      "outputs": [
        {
          "output_type": "execute_result",
          "data": {
            "text/plain": [
              "array(['036', '037', '056', '064', '045', '046', '071', '040', '042',\n",
              "       '041', '039', '038', '048', '043', '035', '032', '052', '058',\n",
              "       '063', '031', '047', '055', '028', '029', '051', '059', '057',\n",
              "       '033', '072', '062', '061', '065', '050', '049', '066', '069',\n",
              "       '053', '077', '075', '054', '068', '024', '026', '060', '074',\n",
              "       '023', '025', '027', '018', '017', '034', '020', '021', '022',\n",
              "       '067', '015', '019', '016', '073', '080', '079', '070', '030',\n",
              "       '044', '078', '085', '076', '083', '084', '092', '081', '082',\n",
              "       '088', '086', '087', '089', '014', '012', '011', '010', '091',\n",
              "       '008', '090', '009', '093', '094', '013', '006', '007', nan, '004',\n",
              "       '095', '096', '005'], dtype=object)"
            ]
          },
          "metadata": {},
          "execution_count": 287
        }
      ]
    },
    {
      "cell_type": "markdown",
      "metadata": {
        "id": "237e52d1"
      },
      "source": [
        "#### Change datatype of a column"
      ],
      "id": "237e52d1"
    },
    {
      "cell_type": "code",
      "metadata": {
        "id": "23e867f6"
      },
      "source": [
        "sslc['fl'] = pd.to_numeric(sslc['fl'], errors='coerce')\n",
        "sslc['sl'] = pd.to_numeric(sslc['sl'], errors='coerce')\n",
        "sslc['math'] = pd.to_numeric(sslc['math'], errors='coerce')\n",
        "sslc['sci'] = pd.to_numeric(sslc['sci'], errors='coerce')\n",
        "sslc['ss'] = pd.to_numeric(sslc['ss'], errors='coerce')\n",
        "sslc['total'] = pd.to_numeric(sslc['total'], errors='coerce')"
      ],
      "id": "23e867f6",
      "execution_count": null,
      "outputs": []
    },
    {
      "cell_type": "code",
      "metadata": {
        "id": "907e6a40",
        "colab": {
          "base_uri": "https://localhost:8080/"
        },
        "outputId": "942d7180-3eb1-4791-9610-125f9348ef0c"
      },
      "source": [
        "sslc.info()"
      ],
      "id": "907e6a40",
      "execution_count": null,
      "outputs": [
        {
          "output_type": "stream",
          "name": "stdout",
          "text": [
            "<class 'pandas.core.frame.DataFrame'>\n",
            "Int64Index: 61917 entries, 10001 to 73\n",
            "Data columns (total 10 columns):\n",
            " #   Column    Non-Null Count  Dtype  \n",
            "---  ------    --------------  -----  \n",
            " 0   region    61917 non-null  object \n",
            " 1   fl        61906 non-null  float64\n",
            " 2   sl        61862 non-null  float64\n",
            " 3   math      61904 non-null  float64\n",
            " 4   sci       61902 non-null  float64\n",
            " 5   ss        61900 non-null  float64\n",
            " 6   total     61916 non-null  float64\n",
            " 7   pass      52080 non-null  object \n",
            " 8   withheld  45 non-null     object \n",
            " 9   extra     0 non-null      float64\n",
            "dtypes: float64(7), object(3)\n",
            "memory usage: 7.7+ MB\n"
          ]
        }
      ]
    },
    {
      "cell_type": "code",
      "metadata": {
        "id": "59f63bb0",
        "colab": {
          "base_uri": "https://localhost:8080/"
        },
        "outputId": "e9ae1105-e3ff-455d-93c8-8e7394aa4bfb"
      },
      "source": [
        "sslc['sl'].nbytes"
      ],
      "id": "59f63bb0",
      "execution_count": null,
      "outputs": [
        {
          "output_type": "execute_result",
          "data": {
            "text/plain": [
              "495336"
            ]
          },
          "metadata": {},
          "execution_count": 290
        }
      ]
    },
    {
      "cell_type": "code",
      "metadata": {
        "id": "e54d81f7",
        "colab": {
          "base_uri": "https://localhost:8080/"
        },
        "outputId": "ea6c6f38-a377-4993-b537-e591792124da"
      },
      "source": [
        "sslc['withheld'].nbytes"
      ],
      "id": "e54d81f7",
      "execution_count": null,
      "outputs": [
        {
          "output_type": "execute_result",
          "data": {
            "text/plain": [
              "495336"
            ]
          },
          "metadata": {},
          "execution_count": 291
        }
      ]
    },
    {
      "cell_type": "code",
      "metadata": {
        "id": "d525c786",
        "colab": {
          "base_uri": "https://localhost:8080/",
          "height": 300
        },
        "outputId": "6541c459-5b5e-4b95-a078-214916f71e37"
      },
      "source": [
        "sslc.describe()"
      ],
      "id": "d525c786",
      "execution_count": null,
      "outputs": [
        {
          "output_type": "execute_result",
          "data": {
            "text/html": [
              "<div>\n",
              "<style scoped>\n",
              "    .dataframe tbody tr th:only-of-type {\n",
              "        vertical-align: middle;\n",
              "    }\n",
              "\n",
              "    .dataframe tbody tr th {\n",
              "        vertical-align: top;\n",
              "    }\n",
              "\n",
              "    .dataframe thead th {\n",
              "        text-align: right;\n",
              "    }\n",
              "</style>\n",
              "<table border=\"1\" class=\"dataframe\">\n",
              "  <thead>\n",
              "    <tr style=\"text-align: right;\">\n",
              "      <th></th>\n",
              "      <th>fl</th>\n",
              "      <th>sl</th>\n",
              "      <th>math</th>\n",
              "      <th>sci</th>\n",
              "      <th>ss</th>\n",
              "      <th>total</th>\n",
              "      <th>extra</th>\n",
              "    </tr>\n",
              "  </thead>\n",
              "  <tbody>\n",
              "    <tr>\n",
              "      <th>count</th>\n",
              "      <td>61906.000000</td>\n",
              "      <td>61862.000000</td>\n",
              "      <td>61904.000000</td>\n",
              "      <td>61902.000000</td>\n",
              "      <td>61900.000000</td>\n",
              "      <td>61916.000000</td>\n",
              "      <td>0.0</td>\n",
              "    </tr>\n",
              "    <tr>\n",
              "      <th>mean</th>\n",
              "      <td>72.598197</td>\n",
              "      <td>53.755213</td>\n",
              "      <td>62.868264</td>\n",
              "      <td>49.543181</td>\n",
              "      <td>62.070889</td>\n",
              "      <td>300.737709</td>\n",
              "      <td>NaN</td>\n",
              "    </tr>\n",
              "    <tr>\n",
              "      <th>std</th>\n",
              "      <td>14.784896</td>\n",
              "      <td>15.707350</td>\n",
              "      <td>24.096134</td>\n",
              "      <td>20.235738</td>\n",
              "      <td>17.603807</td>\n",
              "      <td>83.315593</td>\n",
              "      <td>NaN</td>\n",
              "    </tr>\n",
              "    <tr>\n",
              "      <th>min</th>\n",
              "      <td>4.000000</td>\n",
              "      <td>4.000000</td>\n",
              "      <td>1.000000</td>\n",
              "      <td>2.000000</td>\n",
              "      <td>5.000000</td>\n",
              "      <td>0.000000</td>\n",
              "      <td>NaN</td>\n",
              "    </tr>\n",
              "    <tr>\n",
              "      <th>25%</th>\n",
              "      <td>64.000000</td>\n",
              "      <td>42.000000</td>\n",
              "      <td>43.000000</td>\n",
              "      <td>35.000000</td>\n",
              "      <td>50.000000</td>\n",
              "      <td>240.000000</td>\n",
              "      <td>NaN</td>\n",
              "    </tr>\n",
              "    <tr>\n",
              "      <th>50%</th>\n",
              "      <td>75.000000</td>\n",
              "      <td>53.000000</td>\n",
              "      <td>62.000000</td>\n",
              "      <td>47.000000</td>\n",
              "      <td>63.000000</td>\n",
              "      <td>299.000000</td>\n",
              "      <td>NaN</td>\n",
              "    </tr>\n",
              "    <tr>\n",
              "      <th>75%</th>\n",
              "      <td>84.000000</td>\n",
              "      <td>65.000000</td>\n",
              "      <td>85.000000</td>\n",
              "      <td>64.000000</td>\n",
              "      <td>75.000000</td>\n",
              "      <td>366.000000</td>\n",
              "      <td>NaN</td>\n",
              "    </tr>\n",
              "    <tr>\n",
              "      <th>max</th>\n",
              "      <td>98.000000</td>\n",
              "      <td>96.000000</td>\n",
              "      <td>100.000000</td>\n",
              "      <td>100.000000</td>\n",
              "      <td>100.000000</td>\n",
              "      <td>488.000000</td>\n",
              "      <td>NaN</td>\n",
              "    </tr>\n",
              "  </tbody>\n",
              "</table>\n",
              "</div>"
            ],
            "text/plain": [
              "                 fl            sl  ...         total  extra\n",
              "count  61906.000000  61862.000000  ...  61916.000000    0.0\n",
              "mean      72.598197     53.755213  ...    300.737709    NaN\n",
              "std       14.784896     15.707350  ...     83.315593    NaN\n",
              "min        4.000000      4.000000  ...      0.000000    NaN\n",
              "25%       64.000000     42.000000  ...    240.000000    NaN\n",
              "50%       75.000000     53.000000  ...    299.000000    NaN\n",
              "75%       84.000000     65.000000  ...    366.000000    NaN\n",
              "max       98.000000     96.000000  ...    488.000000    NaN\n",
              "\n",
              "[8 rows x 7 columns]"
            ]
          },
          "metadata": {},
          "execution_count": 292
        }
      ]
    },
    {
      "cell_type": "code",
      "metadata": {
        "id": "1a65a5b1",
        "colab": {
          "base_uri": "https://localhost:8080/"
        },
        "outputId": "0ad7ba2b-c488-4d18-e3c8-6b35c357036f"
      },
      "source": [
        "sslc.memory_usage()"
      ],
      "id": "1a65a5b1",
      "execution_count": null,
      "outputs": [
        {
          "output_type": "execute_result",
          "data": {
            "text/plain": [
              "Index       3116776\n",
              "region       495336\n",
              "fl           495336\n",
              "sl           495336\n",
              "math         495336\n",
              "sci          495336\n",
              "ss           495336\n",
              "total        495336\n",
              "pass         495336\n",
              "withheld     495336\n",
              "extra        495336\n",
              "dtype: int64"
            ]
          },
          "metadata": {},
          "execution_count": 293
        }
      ]
    },
    {
      "cell_type": "markdown",
      "metadata": {
        "id": "511a55d7"
      },
      "source": [
        "#### Create sub dataframe with only a specific datatype"
      ],
      "id": "511a55d7"
    },
    {
      "cell_type": "code",
      "metadata": {
        "id": "b1a0925c"
      },
      "source": [
        "#filtered data frame\n",
        "non_numeric = sslc.select_dtypes(include=[object])"
      ],
      "id": "b1a0925c",
      "execution_count": null,
      "outputs": []
    },
    {
      "cell_type": "markdown",
      "metadata": {
        "id": "5d003d90"
      },
      "source": [
        "#### Statistical measures of columns"
      ],
      "id": "5d003d90"
    },
    {
      "cell_type": "code",
      "metadata": {
        "id": "32fa7ae8",
        "colab": {
          "base_uri": "https://localhost:8080/"
        },
        "outputId": "8526ca1e-80e1-40ba-f3b7-34d087457d37"
      },
      "source": [
        "sslc['total'].max()"
      ],
      "id": "32fa7ae8",
      "execution_count": null,
      "outputs": [
        {
          "output_type": "execute_result",
          "data": {
            "text/plain": [
              "488.0"
            ]
          },
          "metadata": {},
          "execution_count": 296
        }
      ]
    },
    {
      "cell_type": "code",
      "metadata": {
        "id": "50b4a862",
        "colab": {
          "base_uri": "https://localhost:8080/"
        },
        "outputId": "608b6e91-177a-4978-cec3-214e907802dd"
      },
      "source": [
        "sslc['total'].min()"
      ],
      "id": "50b4a862",
      "execution_count": null,
      "outputs": [
        {
          "output_type": "execute_result",
          "data": {
            "text/plain": [
              "0.0"
            ]
          },
          "metadata": {},
          "execution_count": 297
        }
      ]
    },
    {
      "cell_type": "code",
      "metadata": {
        "id": "66c696c4",
        "colab": {
          "base_uri": "https://localhost:8080/"
        },
        "outputId": "e8d753b5-09ec-455a-f3de-514a5157b089"
      },
      "source": [
        "sslc['total'].mean()"
      ],
      "id": "66c696c4",
      "execution_count": null,
      "outputs": [
        {
          "output_type": "execute_result",
          "data": {
            "text/plain": [
              "300.7377091543381"
            ]
          },
          "metadata": {},
          "execution_count": 298
        }
      ]
    },
    {
      "cell_type": "code",
      "metadata": {
        "id": "d6301f06",
        "colab": {
          "base_uri": "https://localhost:8080/"
        },
        "outputId": "b62d97f3-d940-493e-f56d-afda809a660c"
      },
      "source": [
        "sslc['total'].median()"
      ],
      "id": "d6301f06",
      "execution_count": null,
      "outputs": [
        {
          "output_type": "execute_result",
          "data": {
            "text/plain": [
              "299.0"
            ]
          },
          "metadata": {},
          "execution_count": 299
        }
      ]
    },
    {
      "cell_type": "code",
      "metadata": {
        "id": "12e5a62e",
        "colab": {
          "base_uri": "https://localhost:8080/"
        },
        "outputId": "16374433-2cd5-498c-d0a3-5cbba64d9c79"
      },
      "source": [
        "sslc['region'].mode()"
      ],
      "id": "12e5a62e",
      "execution_count": null,
      "outputs": [
        {
          "output_type": "execute_result",
          "data": {
            "text/plain": [
              "0    A\n",
              "dtype: object"
            ]
          },
          "metadata": {},
          "execution_count": 300
        }
      ]
    },
    {
      "cell_type": "markdown",
      "metadata": {
        "id": "2d06a0b3"
      },
      "source": [
        "#### Verify mode by priniting count of all regions"
      ],
      "id": "2d06a0b3"
    },
    {
      "cell_type": "code",
      "metadata": {
        "id": "91dcb978",
        "colab": {
          "base_uri": "https://localhost:8080/"
        },
        "outputId": "795dabb2-6f25-4ef1-8e68-cd65a6691cbf"
      },
      "source": [
        "sslc['total'].std()"
      ],
      "id": "91dcb978",
      "execution_count": null,
      "outputs": [
        {
          "output_type": "execute_result",
          "data": {
            "text/plain": [
              "83.31559305713134"
            ]
          },
          "metadata": {},
          "execution_count": 301
        }
      ]
    },
    {
      "cell_type": "code",
      "metadata": {
        "id": "b965ce89",
        "colab": {
          "base_uri": "https://localhost:8080/"
        },
        "outputId": "4479d7bb-0c37-4cdf-ea20-5631e6cd8516"
      },
      "source": [
        "sslc['region'].value_counts()"
      ],
      "id": "b965ce89",
      "execution_count": null,
      "outputs": [
        {
          "output_type": "execute_result",
          "data": {
            "text/plain": [
              "A    14036\n",
              "F    11635\n",
              "D    10855\n",
              "E    10321\n",
              "B     7702\n",
              "C     7368\n",
              "Name: region, dtype: int64"
            ]
          },
          "metadata": {},
          "execution_count": 302
        }
      ]
    },
    {
      "cell_type": "code",
      "metadata": {
        "id": "33a5d1a8",
        "colab": {
          "base_uri": "https://localhost:8080/"
        },
        "outputId": "4cc04d92-e665-439a-dc0c-f5249a81164c"
      },
      "source": [
        "#check for null values after replacing 'AA'\n",
        "sslc.isnull().sum()"
      ],
      "id": "33a5d1a8",
      "execution_count": null,
      "outputs": [
        {
          "output_type": "execute_result",
          "data": {
            "text/plain": [
              "region          0\n",
              "fl             11\n",
              "sl             55\n",
              "math           13\n",
              "sci            15\n",
              "ss             17\n",
              "total           1\n",
              "pass         9837\n",
              "withheld    61872\n",
              "extra       61917\n",
              "dtype: int64"
            ]
          },
          "metadata": {},
          "execution_count": 303
        }
      ]
    },
    {
      "cell_type": "markdown",
      "metadata": {
        "id": "f43b1698"
      },
      "source": [
        "#### Listdown unique values of a column"
      ],
      "id": "f43b1698"
    },
    {
      "cell_type": "code",
      "metadata": {
        "id": "7b67a4a2",
        "colab": {
          "base_uri": "https://localhost:8080/"
        },
        "outputId": "d5ebb20b-2805-4c26-d9b8-d8c595465203"
      },
      "source": [
        "sslc['pass'].unique()"
      ],
      "id": "7b67a4a2",
      "execution_count": null,
      "outputs": [
        {
          "output_type": "execute_result",
          "data": {
            "text/plain": [
              "array([nan, 'P'], dtype=object)"
            ]
          },
          "metadata": {},
          "execution_count": 304
        }
      ]
    },
    {
      "cell_type": "code",
      "metadata": {
        "id": "09f7a7bc",
        "colab": {
          "base_uri": "https://localhost:8080/"
        },
        "outputId": "ade3b697-2b5e-4dfb-8845-4fadbfb18b89"
      },
      "source": [
        "sslc['pass'].value_counts()"
      ],
      "id": "09f7a7bc",
      "execution_count": null,
      "outputs": [
        {
          "output_type": "execute_result",
          "data": {
            "text/plain": [
              "P    52080\n",
              "Name: pass, dtype: int64"
            ]
          },
          "metadata": {},
          "execution_count": 305
        }
      ]
    },
    {
      "cell_type": "code",
      "metadata": {
        "id": "75ba6b18",
        "colab": {
          "base_uri": "https://localhost:8080/"
        },
        "outputId": "2be02d7e-13c3-450f-ceef-394e3c988a54"
      },
      "source": [
        "sslc['pass'].isnull().sum()"
      ],
      "id": "75ba6b18",
      "execution_count": null,
      "outputs": [
        {
          "output_type": "execute_result",
          "data": {
            "text/plain": [
              "9837"
            ]
          },
          "metadata": {},
          "execution_count": 306
        }
      ]
    },
    {
      "cell_type": "markdown",
      "metadata": {
        "id": "09d6e74c"
      },
      "source": [
        "#### Replace null values of a column by a value"
      ],
      "id": "09d6e74c"
    },
    {
      "cell_type": "code",
      "metadata": {
        "id": "97bf74d7"
      },
      "source": [
        "sslc['pass'] = sslc['pass'].fillna('F')"
      ],
      "id": "97bf74d7",
      "execution_count": null,
      "outputs": []
    },
    {
      "cell_type": "code",
      "metadata": {
        "id": "3284e8d9",
        "colab": {
          "base_uri": "https://localhost:8080/"
        },
        "outputId": "837a13a0-9d2b-40de-84b8-e0e61296869a"
      },
      "source": [
        "sslc['pass'].value_counts()"
      ],
      "id": "3284e8d9",
      "execution_count": null,
      "outputs": [
        {
          "output_type": "execute_result",
          "data": {
            "text/plain": [
              "P    52080\n",
              "F     9837\n",
              "Name: pass, dtype: int64"
            ]
          },
          "metadata": {},
          "execution_count": 308
        }
      ]
    },
    {
      "cell_type": "code",
      "metadata": {
        "id": "537a6b81",
        "colab": {
          "base_uri": "https://localhost:8080/"
        },
        "outputId": "fd2f1b10-b44f-4f17-866b-be21c40d3215"
      },
      "source": [
        "sslc.withheld.value_counts()"
      ],
      "id": "537a6b81",
      "execution_count": null,
      "outputs": [
        {
          "output_type": "execute_result",
          "data": {
            "text/plain": [
              "W    45\n",
              "Name: withheld, dtype: int64"
            ]
          },
          "metadata": {},
          "execution_count": 309
        }
      ]
    },
    {
      "cell_type": "markdown",
      "metadata": {
        "id": "78f8b701"
      },
      "source": [
        "### Conditional Indexing"
      ],
      "id": "78f8b701"
    },
    {
      "cell_type": "markdown",
      "metadata": {
        "id": "5788c87a"
      },
      "source": [
        "#### Create a sub dataframe with only withheld results"
      ],
      "id": "5788c87a"
    },
    {
      "cell_type": "code",
      "metadata": {
        "id": "6ebecc53"
      },
      "source": [
        "sslc_WH = sslc[sslc['withheld']=='W']"
      ],
      "id": "6ebecc53",
      "execution_count": null,
      "outputs": []
    },
    {
      "cell_type": "code",
      "metadata": {
        "id": "a0a203ce",
        "colab": {
          "base_uri": "https://localhost:8080/",
          "height": 1000
        },
        "outputId": "ebde40b6-cc0a-4de0-f50e-b6cc85f6d5dc"
      },
      "source": [
        "sslc_WH"
      ],
      "id": "a0a203ce",
      "execution_count": null,
      "outputs": [
        {
          "output_type": "execute_result",
          "data": {
            "text/html": [
              "<div>\n",
              "<style scoped>\n",
              "    .dataframe tbody tr th:only-of-type {\n",
              "        vertical-align: middle;\n",
              "    }\n",
              "\n",
              "    .dataframe tbody tr th {\n",
              "        vertical-align: top;\n",
              "    }\n",
              "\n",
              "    .dataframe thead th {\n",
              "        text-align: right;\n",
              "    }\n",
              "</style>\n",
              "<table border=\"1\" class=\"dataframe\">\n",
              "  <thead>\n",
              "    <tr style=\"text-align: right;\">\n",
              "      <th></th>\n",
              "      <th>region</th>\n",
              "      <th>fl</th>\n",
              "      <th>sl</th>\n",
              "      <th>math</th>\n",
              "      <th>sci</th>\n",
              "      <th>ss</th>\n",
              "      <th>total</th>\n",
              "      <th>pass</th>\n",
              "      <th>withheld</th>\n",
              "      <th>extra</th>\n",
              "    </tr>\n",
              "    <tr>\n",
              "      <th>roll_number</th>\n",
              "      <th></th>\n",
              "      <th></th>\n",
              "      <th></th>\n",
              "      <th></th>\n",
              "      <th></th>\n",
              "      <th></th>\n",
              "      <th></th>\n",
              "      <th></th>\n",
              "      <th></th>\n",
              "      <th></th>\n",
              "    </tr>\n",
              "  </thead>\n",
              "  <tbody>\n",
              "    <tr>\n",
              "      <th>27815</th>\n",
              "      <td>C</td>\n",
              "      <td>71.0</td>\n",
              "      <td>NaN</td>\n",
              "      <td>63.0</td>\n",
              "      <td>55.0</td>\n",
              "      <td>57.0</td>\n",
              "      <td>246.0</td>\n",
              "      <td>F</td>\n",
              "      <td>W</td>\n",
              "      <td>NaN</td>\n",
              "    </tr>\n",
              "    <tr>\n",
              "      <th>27816</th>\n",
              "      <td>C</td>\n",
              "      <td>69.0</td>\n",
              "      <td>NaN</td>\n",
              "      <td>45.0</td>\n",
              "      <td>43.0</td>\n",
              "      <td>72.0</td>\n",
              "      <td>229.0</td>\n",
              "      <td>F</td>\n",
              "      <td>W</td>\n",
              "      <td>NaN</td>\n",
              "    </tr>\n",
              "    <tr>\n",
              "      <th>27817</th>\n",
              "      <td>C</td>\n",
              "      <td>65.0</td>\n",
              "      <td>NaN</td>\n",
              "      <td>42.0</td>\n",
              "      <td>46.0</td>\n",
              "      <td>67.0</td>\n",
              "      <td>220.0</td>\n",
              "      <td>F</td>\n",
              "      <td>W</td>\n",
              "      <td>NaN</td>\n",
              "    </tr>\n",
              "    <tr>\n",
              "      <th>27818</th>\n",
              "      <td>C</td>\n",
              "      <td>77.0</td>\n",
              "      <td>NaN</td>\n",
              "      <td>91.0</td>\n",
              "      <td>45.0</td>\n",
              "      <td>74.0</td>\n",
              "      <td>287.0</td>\n",
              "      <td>F</td>\n",
              "      <td>W</td>\n",
              "      <td>NaN</td>\n",
              "    </tr>\n",
              "    <tr>\n",
              "      <th>27819</th>\n",
              "      <td>C</td>\n",
              "      <td>73.0</td>\n",
              "      <td>NaN</td>\n",
              "      <td>67.0</td>\n",
              "      <td>48.0</td>\n",
              "      <td>63.0</td>\n",
              "      <td>251.0</td>\n",
              "      <td>F</td>\n",
              "      <td>W</td>\n",
              "      <td>NaN</td>\n",
              "    </tr>\n",
              "    <tr>\n",
              "      <th>27820</th>\n",
              "      <td>C</td>\n",
              "      <td>78.0</td>\n",
              "      <td>NaN</td>\n",
              "      <td>94.0</td>\n",
              "      <td>74.0</td>\n",
              "      <td>84.0</td>\n",
              "      <td>330.0</td>\n",
              "      <td>F</td>\n",
              "      <td>W</td>\n",
              "      <td>NaN</td>\n",
              "    </tr>\n",
              "    <tr>\n",
              "      <th>34514</th>\n",
              "      <td>C</td>\n",
              "      <td>26.0</td>\n",
              "      <td>NaN</td>\n",
              "      <td>21.0</td>\n",
              "      <td>13.0</td>\n",
              "      <td>20.0</td>\n",
              "      <td>80.0</td>\n",
              "      <td>F</td>\n",
              "      <td>W</td>\n",
              "      <td>NaN</td>\n",
              "    </tr>\n",
              "    <tr>\n",
              "      <th>34515</th>\n",
              "      <td>C</td>\n",
              "      <td>59.0</td>\n",
              "      <td>NaN</td>\n",
              "      <td>70.0</td>\n",
              "      <td>35.0</td>\n",
              "      <td>36.0</td>\n",
              "      <td>200.0</td>\n",
              "      <td>F</td>\n",
              "      <td>W</td>\n",
              "      <td>NaN</td>\n",
              "    </tr>\n",
              "    <tr>\n",
              "      <th>34516</th>\n",
              "      <td>C</td>\n",
              "      <td>40.0</td>\n",
              "      <td>NaN</td>\n",
              "      <td>35.0</td>\n",
              "      <td>19.0</td>\n",
              "      <td>24.0</td>\n",
              "      <td>118.0</td>\n",
              "      <td>F</td>\n",
              "      <td>W</td>\n",
              "      <td>NaN</td>\n",
              "    </tr>\n",
              "    <tr>\n",
              "      <th>34517</th>\n",
              "      <td>C</td>\n",
              "      <td>63.0</td>\n",
              "      <td>NaN</td>\n",
              "      <td>53.0</td>\n",
              "      <td>35.0</td>\n",
              "      <td>35.0</td>\n",
              "      <td>186.0</td>\n",
              "      <td>F</td>\n",
              "      <td>W</td>\n",
              "      <td>NaN</td>\n",
              "    </tr>\n",
              "    <tr>\n",
              "      <th>34518</th>\n",
              "      <td>C</td>\n",
              "      <td>28.0</td>\n",
              "      <td>NaN</td>\n",
              "      <td>40.0</td>\n",
              "      <td>25.0</td>\n",
              "      <td>19.0</td>\n",
              "      <td>112.0</td>\n",
              "      <td>F</td>\n",
              "      <td>W</td>\n",
              "      <td>NaN</td>\n",
              "    </tr>\n",
              "    <tr>\n",
              "      <th>34519</th>\n",
              "      <td>C</td>\n",
              "      <td>46.0</td>\n",
              "      <td>NaN</td>\n",
              "      <td>42.0</td>\n",
              "      <td>22.0</td>\n",
              "      <td>16.0</td>\n",
              "      <td>126.0</td>\n",
              "      <td>F</td>\n",
              "      <td>W</td>\n",
              "      <td>NaN</td>\n",
              "    </tr>\n",
              "    <tr>\n",
              "      <th>34520</th>\n",
              "      <td>C</td>\n",
              "      <td>19.0</td>\n",
              "      <td>NaN</td>\n",
              "      <td>35.0</td>\n",
              "      <td>12.0</td>\n",
              "      <td>60.0</td>\n",
              "      <td>126.0</td>\n",
              "      <td>F</td>\n",
              "      <td>W</td>\n",
              "      <td>NaN</td>\n",
              "    </tr>\n",
              "    <tr>\n",
              "      <th>34521</th>\n",
              "      <td>C</td>\n",
              "      <td>26.0</td>\n",
              "      <td>NaN</td>\n",
              "      <td>35.0</td>\n",
              "      <td>16.0</td>\n",
              "      <td>38.0</td>\n",
              "      <td>115.0</td>\n",
              "      <td>F</td>\n",
              "      <td>W</td>\n",
              "      <td>NaN</td>\n",
              "    </tr>\n",
              "    <tr>\n",
              "      <th>34522</th>\n",
              "      <td>C</td>\n",
              "      <td>43.0</td>\n",
              "      <td>NaN</td>\n",
              "      <td>51.0</td>\n",
              "      <td>20.0</td>\n",
              "      <td>57.0</td>\n",
              "      <td>171.0</td>\n",
              "      <td>F</td>\n",
              "      <td>W</td>\n",
              "      <td>NaN</td>\n",
              "    </tr>\n",
              "    <tr>\n",
              "      <th>34523</th>\n",
              "      <td>C</td>\n",
              "      <td>16.0</td>\n",
              "      <td>NaN</td>\n",
              "      <td>8.0</td>\n",
              "      <td>13.0</td>\n",
              "      <td>35.0</td>\n",
              "      <td>72.0</td>\n",
              "      <td>F</td>\n",
              "      <td>W</td>\n",
              "      <td>NaN</td>\n",
              "    </tr>\n",
              "    <tr>\n",
              "      <th>34524</th>\n",
              "      <td>C</td>\n",
              "      <td>28.0</td>\n",
              "      <td>NaN</td>\n",
              "      <td>43.0</td>\n",
              "      <td>20.0</td>\n",
              "      <td>45.0</td>\n",
              "      <td>136.0</td>\n",
              "      <td>F</td>\n",
              "      <td>W</td>\n",
              "      <td>NaN</td>\n",
              "    </tr>\n",
              "    <tr>\n",
              "      <th>38288</th>\n",
              "      <td>D</td>\n",
              "      <td>NaN</td>\n",
              "      <td>NaN</td>\n",
              "      <td>NaN</td>\n",
              "      <td>NaN</td>\n",
              "      <td>NaN</td>\n",
              "      <td>0.0</td>\n",
              "      <td>F</td>\n",
              "      <td>W</td>\n",
              "      <td>NaN</td>\n",
              "    </tr>\n",
              "    <tr>\n",
              "      <th>38298</th>\n",
              "      <td>D</td>\n",
              "      <td>NaN</td>\n",
              "      <td>NaN</td>\n",
              "      <td>NaN</td>\n",
              "      <td>NaN</td>\n",
              "      <td>NaN</td>\n",
              "      <td>0.0</td>\n",
              "      <td>F</td>\n",
              "      <td>W</td>\n",
              "      <td>NaN</td>\n",
              "    </tr>\n",
              "    <tr>\n",
              "      <th>38340</th>\n",
              "      <td>D</td>\n",
              "      <td>50.0</td>\n",
              "      <td>NaN</td>\n",
              "      <td>56.0</td>\n",
              "      <td>45.0</td>\n",
              "      <td>70.0</td>\n",
              "      <td>221.0</td>\n",
              "      <td>F</td>\n",
              "      <td>W</td>\n",
              "      <td>NaN</td>\n",
              "    </tr>\n",
              "    <tr>\n",
              "      <th>38343</th>\n",
              "      <td>D</td>\n",
              "      <td>48.0</td>\n",
              "      <td>NaN</td>\n",
              "      <td>57.0</td>\n",
              "      <td>51.0</td>\n",
              "      <td>60.0</td>\n",
              "      <td>216.0</td>\n",
              "      <td>F</td>\n",
              "      <td>W</td>\n",
              "      <td>NaN</td>\n",
              "    </tr>\n",
              "    <tr>\n",
              "      <th>38344</th>\n",
              "      <td>D</td>\n",
              "      <td>43.0</td>\n",
              "      <td>NaN</td>\n",
              "      <td>63.0</td>\n",
              "      <td>47.0</td>\n",
              "      <td>66.0</td>\n",
              "      <td>219.0</td>\n",
              "      <td>F</td>\n",
              "      <td>W</td>\n",
              "      <td>NaN</td>\n",
              "    </tr>\n",
              "    <tr>\n",
              "      <th>38345</th>\n",
              "      <td>D</td>\n",
              "      <td>56.0</td>\n",
              "      <td>NaN</td>\n",
              "      <td>62.0</td>\n",
              "      <td>59.0</td>\n",
              "      <td>62.0</td>\n",
              "      <td>239.0</td>\n",
              "      <td>F</td>\n",
              "      <td>W</td>\n",
              "      <td>NaN</td>\n",
              "    </tr>\n",
              "    <tr>\n",
              "      <th>38346</th>\n",
              "      <td>D</td>\n",
              "      <td>30.0</td>\n",
              "      <td>NaN</td>\n",
              "      <td>25.0</td>\n",
              "      <td>50.0</td>\n",
              "      <td>51.0</td>\n",
              "      <td>156.0</td>\n",
              "      <td>F</td>\n",
              "      <td>W</td>\n",
              "      <td>NaN</td>\n",
              "    </tr>\n",
              "    <tr>\n",
              "      <th>38348</th>\n",
              "      <td>D</td>\n",
              "      <td>40.0</td>\n",
              "      <td>NaN</td>\n",
              "      <td>43.0</td>\n",
              "      <td>44.0</td>\n",
              "      <td>56.0</td>\n",
              "      <td>183.0</td>\n",
              "      <td>F</td>\n",
              "      <td>W</td>\n",
              "      <td>NaN</td>\n",
              "    </tr>\n",
              "    <tr>\n",
              "      <th>38349</th>\n",
              "      <td>D</td>\n",
              "      <td>36.0</td>\n",
              "      <td>NaN</td>\n",
              "      <td>46.0</td>\n",
              "      <td>26.0</td>\n",
              "      <td>73.0</td>\n",
              "      <td>181.0</td>\n",
              "      <td>F</td>\n",
              "      <td>W</td>\n",
              "      <td>NaN</td>\n",
              "    </tr>\n",
              "    <tr>\n",
              "      <th>38935</th>\n",
              "      <td>D</td>\n",
              "      <td>NaN</td>\n",
              "      <td>NaN</td>\n",
              "      <td>NaN</td>\n",
              "      <td>NaN</td>\n",
              "      <td>NaN</td>\n",
              "      <td>0.0</td>\n",
              "      <td>F</td>\n",
              "      <td>W</td>\n",
              "      <td>NaN</td>\n",
              "    </tr>\n",
              "    <tr>\n",
              "      <th>45599</th>\n",
              "      <td>D</td>\n",
              "      <td>NaN</td>\n",
              "      <td>NaN</td>\n",
              "      <td>NaN</td>\n",
              "      <td>NaN</td>\n",
              "      <td>NaN</td>\n",
              "      <td>0.0</td>\n",
              "      <td>F</td>\n",
              "      <td>W</td>\n",
              "      <td>NaN</td>\n",
              "    </tr>\n",
              "    <tr>\n",
              "      <th>60961</th>\n",
              "      <td>F</td>\n",
              "      <td>38.0</td>\n",
              "      <td>NaN</td>\n",
              "      <td>58.0</td>\n",
              "      <td>35.0</td>\n",
              "      <td>22.0</td>\n",
              "      <td>153.0</td>\n",
              "      <td>F</td>\n",
              "      <td>W</td>\n",
              "      <td>NaN</td>\n",
              "    </tr>\n",
              "    <tr>\n",
              "      <th>60962</th>\n",
              "      <td>F</td>\n",
              "      <td>40.0</td>\n",
              "      <td>NaN</td>\n",
              "      <td>52.0</td>\n",
              "      <td>35.0</td>\n",
              "      <td>37.0</td>\n",
              "      <td>164.0</td>\n",
              "      <td>F</td>\n",
              "      <td>W</td>\n",
              "      <td>NaN</td>\n",
              "    </tr>\n",
              "    <tr>\n",
              "      <th>60963</th>\n",
              "      <td>F</td>\n",
              "      <td>44.0</td>\n",
              "      <td>NaN</td>\n",
              "      <td>50.0</td>\n",
              "      <td>35.0</td>\n",
              "      <td>28.0</td>\n",
              "      <td>157.0</td>\n",
              "      <td>F</td>\n",
              "      <td>W</td>\n",
              "      <td>NaN</td>\n",
              "    </tr>\n",
              "    <tr>\n",
              "      <th>60964</th>\n",
              "      <td>F</td>\n",
              "      <td>52.0</td>\n",
              "      <td>NaN</td>\n",
              "      <td>50.0</td>\n",
              "      <td>47.0</td>\n",
              "      <td>53.0</td>\n",
              "      <td>202.0</td>\n",
              "      <td>F</td>\n",
              "      <td>W</td>\n",
              "      <td>NaN</td>\n",
              "    </tr>\n",
              "    <tr>\n",
              "      <th>60965</th>\n",
              "      <td>F</td>\n",
              "      <td>42.0</td>\n",
              "      <td>NaN</td>\n",
              "      <td>65.0</td>\n",
              "      <td>43.0</td>\n",
              "      <td>42.0</td>\n",
              "      <td>192.0</td>\n",
              "      <td>F</td>\n",
              "      <td>W</td>\n",
              "      <td>NaN</td>\n",
              "    </tr>\n",
              "    <tr>\n",
              "      <th>60966</th>\n",
              "      <td>F</td>\n",
              "      <td>45.0</td>\n",
              "      <td>NaN</td>\n",
              "      <td>56.0</td>\n",
              "      <td>43.0</td>\n",
              "      <td>35.0</td>\n",
              "      <td>179.0</td>\n",
              "      <td>F</td>\n",
              "      <td>W</td>\n",
              "      <td>NaN</td>\n",
              "    </tr>\n",
              "    <tr>\n",
              "      <th>60967</th>\n",
              "      <td>F</td>\n",
              "      <td>45.0</td>\n",
              "      <td>NaN</td>\n",
              "      <td>55.0</td>\n",
              "      <td>53.0</td>\n",
              "      <td>45.0</td>\n",
              "      <td>198.0</td>\n",
              "      <td>F</td>\n",
              "      <td>W</td>\n",
              "      <td>NaN</td>\n",
              "    </tr>\n",
              "    <tr>\n",
              "      <th>60968</th>\n",
              "      <td>F</td>\n",
              "      <td>46.0</td>\n",
              "      <td>NaN</td>\n",
              "      <td>42.0</td>\n",
              "      <td>41.0</td>\n",
              "      <td>39.0</td>\n",
              "      <td>168.0</td>\n",
              "      <td>F</td>\n",
              "      <td>W</td>\n",
              "      <td>NaN</td>\n",
              "    </tr>\n",
              "    <tr>\n",
              "      <th>60969</th>\n",
              "      <td>F</td>\n",
              "      <td>39.0</td>\n",
              "      <td>NaN</td>\n",
              "      <td>54.0</td>\n",
              "      <td>49.0</td>\n",
              "      <td>40.0</td>\n",
              "      <td>182.0</td>\n",
              "      <td>F</td>\n",
              "      <td>W</td>\n",
              "      <td>NaN</td>\n",
              "    </tr>\n",
              "    <tr>\n",
              "      <th>60970</th>\n",
              "      <td>F</td>\n",
              "      <td>42.0</td>\n",
              "      <td>NaN</td>\n",
              "      <td>46.0</td>\n",
              "      <td>48.0</td>\n",
              "      <td>35.0</td>\n",
              "      <td>171.0</td>\n",
              "      <td>F</td>\n",
              "      <td>W</td>\n",
              "      <td>NaN</td>\n",
              "    </tr>\n",
              "    <tr>\n",
              "      <th>60971</th>\n",
              "      <td>F</td>\n",
              "      <td>33.0</td>\n",
              "      <td>NaN</td>\n",
              "      <td>45.0</td>\n",
              "      <td>38.0</td>\n",
              "      <td>42.0</td>\n",
              "      <td>158.0</td>\n",
              "      <td>F</td>\n",
              "      <td>W</td>\n",
              "      <td>NaN</td>\n",
              "    </tr>\n",
              "    <tr>\n",
              "      <th>60972</th>\n",
              "      <td>F</td>\n",
              "      <td>45.0</td>\n",
              "      <td>NaN</td>\n",
              "      <td>20.0</td>\n",
              "      <td>28.0</td>\n",
              "      <td>35.0</td>\n",
              "      <td>128.0</td>\n",
              "      <td>F</td>\n",
              "      <td>W</td>\n",
              "      <td>NaN</td>\n",
              "    </tr>\n",
              "    <tr>\n",
              "      <th>60973</th>\n",
              "      <td>F</td>\n",
              "      <td>36.0</td>\n",
              "      <td>NaN</td>\n",
              "      <td>16.0</td>\n",
              "      <td>35.0</td>\n",
              "      <td>25.0</td>\n",
              "      <td>112.0</td>\n",
              "      <td>F</td>\n",
              "      <td>W</td>\n",
              "      <td>NaN</td>\n",
              "    </tr>\n",
              "    <tr>\n",
              "      <th>60974</th>\n",
              "      <td>F</td>\n",
              "      <td>65.0</td>\n",
              "      <td>NaN</td>\n",
              "      <td>46.0</td>\n",
              "      <td>55.0</td>\n",
              "      <td>47.0</td>\n",
              "      <td>213.0</td>\n",
              "      <td>F</td>\n",
              "      <td>W</td>\n",
              "      <td>NaN</td>\n",
              "    </tr>\n",
              "    <tr>\n",
              "      <th>60975</th>\n",
              "      <td>F</td>\n",
              "      <td>44.0</td>\n",
              "      <td>NaN</td>\n",
              "      <td>41.0</td>\n",
              "      <td>35.0</td>\n",
              "      <td>47.0</td>\n",
              "      <td>167.0</td>\n",
              "      <td>F</td>\n",
              "      <td>W</td>\n",
              "      <td>NaN</td>\n",
              "    </tr>\n",
              "    <tr>\n",
              "      <th>60976</th>\n",
              "      <td>F</td>\n",
              "      <td>44.0</td>\n",
              "      <td>NaN</td>\n",
              "      <td>19.0</td>\n",
              "      <td>27.0</td>\n",
              "      <td>37.0</td>\n",
              "      <td>127.0</td>\n",
              "      <td>F</td>\n",
              "      <td>W</td>\n",
              "      <td>NaN</td>\n",
              "    </tr>\n",
              "    <tr>\n",
              "      <th>60977</th>\n",
              "      <td>F</td>\n",
              "      <td>52.0</td>\n",
              "      <td>NaN</td>\n",
              "      <td>55.0</td>\n",
              "      <td>47.0</td>\n",
              "      <td>40.0</td>\n",
              "      <td>194.0</td>\n",
              "      <td>F</td>\n",
              "      <td>W</td>\n",
              "      <td>NaN</td>\n",
              "    </tr>\n",
              "  </tbody>\n",
              "</table>\n",
              "</div>"
            ],
            "text/plain": [
              "            region    fl  sl  math   sci    ss  total pass withheld  extra\n",
              "roll_number                                                               \n",
              "27815            C  71.0 NaN  63.0  55.0  57.0  246.0    F        W    NaN\n",
              "27816            C  69.0 NaN  45.0  43.0  72.0  229.0    F        W    NaN\n",
              "27817            C  65.0 NaN  42.0  46.0  67.0  220.0    F        W    NaN\n",
              "27818            C  77.0 NaN  91.0  45.0  74.0  287.0    F        W    NaN\n",
              "27819            C  73.0 NaN  67.0  48.0  63.0  251.0    F        W    NaN\n",
              "27820            C  78.0 NaN  94.0  74.0  84.0  330.0    F        W    NaN\n",
              "34514            C  26.0 NaN  21.0  13.0  20.0   80.0    F        W    NaN\n",
              "34515            C  59.0 NaN  70.0  35.0  36.0  200.0    F        W    NaN\n",
              "34516            C  40.0 NaN  35.0  19.0  24.0  118.0    F        W    NaN\n",
              "34517            C  63.0 NaN  53.0  35.0  35.0  186.0    F        W    NaN\n",
              "34518            C  28.0 NaN  40.0  25.0  19.0  112.0    F        W    NaN\n",
              "34519            C  46.0 NaN  42.0  22.0  16.0  126.0    F        W    NaN\n",
              "34520            C  19.0 NaN  35.0  12.0  60.0  126.0    F        W    NaN\n",
              "34521            C  26.0 NaN  35.0  16.0  38.0  115.0    F        W    NaN\n",
              "34522            C  43.0 NaN  51.0  20.0  57.0  171.0    F        W    NaN\n",
              "34523            C  16.0 NaN   8.0  13.0  35.0   72.0    F        W    NaN\n",
              "34524            C  28.0 NaN  43.0  20.0  45.0  136.0    F        W    NaN\n",
              "38288            D   NaN NaN   NaN   NaN   NaN    0.0    F        W    NaN\n",
              "38298            D   NaN NaN   NaN   NaN   NaN    0.0    F        W    NaN\n",
              "38340            D  50.0 NaN  56.0  45.0  70.0  221.0    F        W    NaN\n",
              "38343            D  48.0 NaN  57.0  51.0  60.0  216.0    F        W    NaN\n",
              "38344            D  43.0 NaN  63.0  47.0  66.0  219.0    F        W    NaN\n",
              "38345            D  56.0 NaN  62.0  59.0  62.0  239.0    F        W    NaN\n",
              "38346            D  30.0 NaN  25.0  50.0  51.0  156.0    F        W    NaN\n",
              "38348            D  40.0 NaN  43.0  44.0  56.0  183.0    F        W    NaN\n",
              "38349            D  36.0 NaN  46.0  26.0  73.0  181.0    F        W    NaN\n",
              "38935            D   NaN NaN   NaN   NaN   NaN    0.0    F        W    NaN\n",
              "45599            D   NaN NaN   NaN   NaN   NaN    0.0    F        W    NaN\n",
              "60961            F  38.0 NaN  58.0  35.0  22.0  153.0    F        W    NaN\n",
              "60962            F  40.0 NaN  52.0  35.0  37.0  164.0    F        W    NaN\n",
              "60963            F  44.0 NaN  50.0  35.0  28.0  157.0    F        W    NaN\n",
              "60964            F  52.0 NaN  50.0  47.0  53.0  202.0    F        W    NaN\n",
              "60965            F  42.0 NaN  65.0  43.0  42.0  192.0    F        W    NaN\n",
              "60966            F  45.0 NaN  56.0  43.0  35.0  179.0    F        W    NaN\n",
              "60967            F  45.0 NaN  55.0  53.0  45.0  198.0    F        W    NaN\n",
              "60968            F  46.0 NaN  42.0  41.0  39.0  168.0    F        W    NaN\n",
              "60969            F  39.0 NaN  54.0  49.0  40.0  182.0    F        W    NaN\n",
              "60970            F  42.0 NaN  46.0  48.0  35.0  171.0    F        W    NaN\n",
              "60971            F  33.0 NaN  45.0  38.0  42.0  158.0    F        W    NaN\n",
              "60972            F  45.0 NaN  20.0  28.0  35.0  128.0    F        W    NaN\n",
              "60973            F  36.0 NaN  16.0  35.0  25.0  112.0    F        W    NaN\n",
              "60974            F  65.0 NaN  46.0  55.0  47.0  213.0    F        W    NaN\n",
              "60975            F  44.0 NaN  41.0  35.0  47.0  167.0    F        W    NaN\n",
              "60976            F  44.0 NaN  19.0  27.0  37.0  127.0    F        W    NaN\n",
              "60977            F  52.0 NaN  55.0  47.0  40.0  194.0    F        W    NaN"
            ]
          },
          "metadata": {},
          "execution_count": 311
        }
      ]
    },
    {
      "cell_type": "markdown",
      "metadata": {
        "id": "f4f8c25a"
      },
      "source": [
        "#### Combining Conditions using and, or, xor"
      ],
      "id": "f4f8c25a"
    },
    {
      "cell_type": "code",
      "metadata": {
        "id": "cdd57a96"
      },
      "source": [
        "fl_and_sl = sslc[(sslc['fl']>75) & (sslc['sl']>75)]"
      ],
      "id": "cdd57a96",
      "execution_count": null,
      "outputs": []
    },
    {
      "cell_type": "code",
      "metadata": {
        "id": "d1863d59",
        "colab": {
          "base_uri": "https://localhost:8080/",
          "height": 455
        },
        "outputId": "1f7a9ac2-655e-4c6a-fd7c-36433ddd2189"
      },
      "source": [
        "fl_and_sl"
      ],
      "id": "d1863d59",
      "execution_count": null,
      "outputs": [
        {
          "output_type": "execute_result",
          "data": {
            "text/html": [
              "<div>\n",
              "<style scoped>\n",
              "    .dataframe tbody tr th:only-of-type {\n",
              "        vertical-align: middle;\n",
              "    }\n",
              "\n",
              "    .dataframe tbody tr th {\n",
              "        vertical-align: top;\n",
              "    }\n",
              "\n",
              "    .dataframe thead th {\n",
              "        text-align: right;\n",
              "    }\n",
              "</style>\n",
              "<table border=\"1\" class=\"dataframe\">\n",
              "  <thead>\n",
              "    <tr style=\"text-align: right;\">\n",
              "      <th></th>\n",
              "      <th>region</th>\n",
              "      <th>fl</th>\n",
              "      <th>sl</th>\n",
              "      <th>math</th>\n",
              "      <th>sci</th>\n",
              "      <th>ss</th>\n",
              "      <th>total</th>\n",
              "      <th>pass</th>\n",
              "      <th>withheld</th>\n",
              "      <th>extra</th>\n",
              "    </tr>\n",
              "    <tr>\n",
              "      <th>roll_number</th>\n",
              "      <th></th>\n",
              "      <th></th>\n",
              "      <th></th>\n",
              "      <th></th>\n",
              "      <th></th>\n",
              "      <th></th>\n",
              "      <th></th>\n",
              "      <th></th>\n",
              "      <th></th>\n",
              "      <th></th>\n",
              "    </tr>\n",
              "  </thead>\n",
              "  <tbody>\n",
              "    <tr>\n",
              "      <th>10082</th>\n",
              "      <td>A</td>\n",
              "      <td>93.0</td>\n",
              "      <td>77.0</td>\n",
              "      <td>88.0</td>\n",
              "      <td>76.0</td>\n",
              "      <td>93.0</td>\n",
              "      <td>427.0</td>\n",
              "      <td>P</td>\n",
              "      <td>NaN</td>\n",
              "      <td>NaN</td>\n",
              "    </tr>\n",
              "    <tr>\n",
              "      <th>10088</th>\n",
              "      <td>A</td>\n",
              "      <td>92.0</td>\n",
              "      <td>77.0</td>\n",
              "      <td>99.0</td>\n",
              "      <td>76.0</td>\n",
              "      <td>92.0</td>\n",
              "      <td>436.0</td>\n",
              "      <td>P</td>\n",
              "      <td>NaN</td>\n",
              "      <td>NaN</td>\n",
              "    </tr>\n",
              "    <tr>\n",
              "      <th>10234</th>\n",
              "      <td>A</td>\n",
              "      <td>90.0</td>\n",
              "      <td>80.0</td>\n",
              "      <td>96.0</td>\n",
              "      <td>86.0</td>\n",
              "      <td>80.0</td>\n",
              "      <td>432.0</td>\n",
              "      <td>P</td>\n",
              "      <td>NaN</td>\n",
              "      <td>NaN</td>\n",
              "    </tr>\n",
              "    <tr>\n",
              "      <th>10241</th>\n",
              "      <td>A</td>\n",
              "      <td>93.0</td>\n",
              "      <td>79.0</td>\n",
              "      <td>97.0</td>\n",
              "      <td>72.0</td>\n",
              "      <td>83.0</td>\n",
              "      <td>424.0</td>\n",
              "      <td>P</td>\n",
              "      <td>NaN</td>\n",
              "      <td>NaN</td>\n",
              "    </tr>\n",
              "    <tr>\n",
              "      <th>10286</th>\n",
              "      <td>A</td>\n",
              "      <td>78.0</td>\n",
              "      <td>78.0</td>\n",
              "      <td>100.0</td>\n",
              "      <td>69.0</td>\n",
              "      <td>88.0</td>\n",
              "      <td>413.0</td>\n",
              "      <td>P</td>\n",
              "      <td>NaN</td>\n",
              "      <td>NaN</td>\n",
              "    </tr>\n",
              "    <tr>\n",
              "      <th>...</th>\n",
              "      <td>...</td>\n",
              "      <td>...</td>\n",
              "      <td>...</td>\n",
              "      <td>...</td>\n",
              "      <td>...</td>\n",
              "      <td>...</td>\n",
              "      <td>...</td>\n",
              "      <td>...</td>\n",
              "      <td>...</td>\n",
              "      <td>...</td>\n",
              "    </tr>\n",
              "    <tr>\n",
              "      <th>72964</th>\n",
              "      <td>A</td>\n",
              "      <td>90.0</td>\n",
              "      <td>89.0</td>\n",
              "      <td>94.0</td>\n",
              "      <td>85.0</td>\n",
              "      <td>88.0</td>\n",
              "      <td>446.0</td>\n",
              "      <td>P</td>\n",
              "      <td>NaN</td>\n",
              "      <td>NaN</td>\n",
              "    </tr>\n",
              "    <tr>\n",
              "      <th>72999</th>\n",
              "      <td>A</td>\n",
              "      <td>80.0</td>\n",
              "      <td>76.0</td>\n",
              "      <td>95.0</td>\n",
              "      <td>84.0</td>\n",
              "      <td>82.0</td>\n",
              "      <td>417.0</td>\n",
              "      <td>P</td>\n",
              "      <td>NaN</td>\n",
              "      <td>NaN</td>\n",
              "    </tr>\n",
              "    <tr>\n",
              "      <th>73000</th>\n",
              "      <td>A</td>\n",
              "      <td>77.0</td>\n",
              "      <td>76.0</td>\n",
              "      <td>86.0</td>\n",
              "      <td>72.0</td>\n",
              "      <td>82.0</td>\n",
              "      <td>393.0</td>\n",
              "      <td>P</td>\n",
              "      <td>NaN</td>\n",
              "      <td>NaN</td>\n",
              "    </tr>\n",
              "    <tr>\n",
              "      <th>73060</th>\n",
              "      <td>A</td>\n",
              "      <td>92.0</td>\n",
              "      <td>82.0</td>\n",
              "      <td>100.0</td>\n",
              "      <td>96.0</td>\n",
              "      <td>98.0</td>\n",
              "      <td>468.0</td>\n",
              "      <td>P</td>\n",
              "      <td>NaN</td>\n",
              "      <td>NaN</td>\n",
              "    </tr>\n",
              "    <tr>\n",
              "      <th>73061</th>\n",
              "      <td>A</td>\n",
              "      <td>93.0</td>\n",
              "      <td>77.0</td>\n",
              "      <td>100.0</td>\n",
              "      <td>86.0</td>\n",
              "      <td>97.0</td>\n",
              "      <td>453.0</td>\n",
              "      <td>P</td>\n",
              "      <td>NaN</td>\n",
              "      <td>NaN</td>\n",
              "    </tr>\n",
              "  </tbody>\n",
              "</table>\n",
              "<p>5681 rows × 10 columns</p>\n",
              "</div>"
            ],
            "text/plain": [
              "            region    fl    sl   math   sci    ss  total pass withheld  extra\n",
              "roll_number                                                                  \n",
              "10082            A  93.0  77.0   88.0  76.0  93.0  427.0    P      NaN    NaN\n",
              "10088            A  92.0  77.0   99.0  76.0  92.0  436.0    P      NaN    NaN\n",
              "10234            A  90.0  80.0   96.0  86.0  80.0  432.0    P      NaN    NaN\n",
              "10241            A  93.0  79.0   97.0  72.0  83.0  424.0    P      NaN    NaN\n",
              "10286            A  78.0  78.0  100.0  69.0  88.0  413.0    P      NaN    NaN\n",
              "...            ...   ...   ...    ...   ...   ...    ...  ...      ...    ...\n",
              "72964            A  90.0  89.0   94.0  85.0  88.0  446.0    P      NaN    NaN\n",
              "72999            A  80.0  76.0   95.0  84.0  82.0  417.0    P      NaN    NaN\n",
              "73000            A  77.0  76.0   86.0  72.0  82.0  393.0    P      NaN    NaN\n",
              "73060            A  92.0  82.0  100.0  96.0  98.0  468.0    P      NaN    NaN\n",
              "73061            A  93.0  77.0  100.0  86.0  97.0  453.0    P      NaN    NaN\n",
              "\n",
              "[5681 rows x 10 columns]"
            ]
          },
          "metadata": {},
          "execution_count": 313
        }
      ]
    },
    {
      "cell_type": "code",
      "metadata": {
        "id": "c6f209ee"
      },
      "source": [
        "fl_or_sl = sslc[(sslc['fl']>75) | (sslc['sl']>75)]"
      ],
      "id": "c6f209ee",
      "execution_count": null,
      "outputs": []
    },
    {
      "cell_type": "code",
      "metadata": {
        "id": "1835ac31",
        "colab": {
          "base_uri": "https://localhost:8080/",
          "height": 455
        },
        "outputId": "2798a997-a2d5-43c5-f50c-a63d51e7c941"
      },
      "source": [
        "fl_or_sl"
      ],
      "id": "1835ac31",
      "execution_count": null,
      "outputs": [
        {
          "output_type": "execute_result",
          "data": {
            "text/html": [
              "<div>\n",
              "<style scoped>\n",
              "    .dataframe tbody tr th:only-of-type {\n",
              "        vertical-align: middle;\n",
              "    }\n",
              "\n",
              "    .dataframe tbody tr th {\n",
              "        vertical-align: top;\n",
              "    }\n",
              "\n",
              "    .dataframe thead th {\n",
              "        text-align: right;\n",
              "    }\n",
              "</style>\n",
              "<table border=\"1\" class=\"dataframe\">\n",
              "  <thead>\n",
              "    <tr style=\"text-align: right;\">\n",
              "      <th></th>\n",
              "      <th>region</th>\n",
              "      <th>fl</th>\n",
              "      <th>sl</th>\n",
              "      <th>math</th>\n",
              "      <th>sci</th>\n",
              "      <th>ss</th>\n",
              "      <th>total</th>\n",
              "      <th>pass</th>\n",
              "      <th>withheld</th>\n",
              "      <th>extra</th>\n",
              "    </tr>\n",
              "    <tr>\n",
              "      <th>roll_number</th>\n",
              "      <th></th>\n",
              "      <th></th>\n",
              "      <th></th>\n",
              "      <th></th>\n",
              "      <th></th>\n",
              "      <th></th>\n",
              "      <th></th>\n",
              "      <th></th>\n",
              "      <th></th>\n",
              "      <th></th>\n",
              "    </tr>\n",
              "  </thead>\n",
              "  <tbody>\n",
              "    <tr>\n",
              "      <th>10004</th>\n",
              "      <td>A</td>\n",
              "      <td>87.0</td>\n",
              "      <td>64.0</td>\n",
              "      <td>83.0</td>\n",
              "      <td>58.0</td>\n",
              "      <td>65.0</td>\n",
              "      <td>357.0</td>\n",
              "      <td>P</td>\n",
              "      <td>NaN</td>\n",
              "      <td>NaN</td>\n",
              "    </tr>\n",
              "    <tr>\n",
              "      <th>10008</th>\n",
              "      <td>A</td>\n",
              "      <td>87.0</td>\n",
              "      <td>71.0</td>\n",
              "      <td>97.0</td>\n",
              "      <td>71.0</td>\n",
              "      <td>81.0</td>\n",
              "      <td>407.0</td>\n",
              "      <td>P</td>\n",
              "      <td>NaN</td>\n",
              "      <td>NaN</td>\n",
              "    </tr>\n",
              "    <tr>\n",
              "      <th>10014</th>\n",
              "      <td>A</td>\n",
              "      <td>83.0</td>\n",
              "      <td>48.0</td>\n",
              "      <td>82.0</td>\n",
              "      <td>42.0</td>\n",
              "      <td>64.0</td>\n",
              "      <td>319.0</td>\n",
              "      <td>P</td>\n",
              "      <td>NaN</td>\n",
              "      <td>NaN</td>\n",
              "    </tr>\n",
              "    <tr>\n",
              "      <th>10023</th>\n",
              "      <td>A</td>\n",
              "      <td>76.0</td>\n",
              "      <td>58.0</td>\n",
              "      <td>61.0</td>\n",
              "      <td>74.0</td>\n",
              "      <td>73.0</td>\n",
              "      <td>342.0</td>\n",
              "      <td>P</td>\n",
              "      <td>NaN</td>\n",
              "      <td>NaN</td>\n",
              "    </tr>\n",
              "    <tr>\n",
              "      <th>10031</th>\n",
              "      <td>A</td>\n",
              "      <td>76.0</td>\n",
              "      <td>55.0</td>\n",
              "      <td>60.0</td>\n",
              "      <td>52.0</td>\n",
              "      <td>59.0</td>\n",
              "      <td>302.0</td>\n",
              "      <td>P</td>\n",
              "      <td>NaN</td>\n",
              "      <td>NaN</td>\n",
              "    </tr>\n",
              "    <tr>\n",
              "      <th>...</th>\n",
              "      <td>...</td>\n",
              "      <td>...</td>\n",
              "      <td>...</td>\n",
              "      <td>...</td>\n",
              "      <td>...</td>\n",
              "      <td>...</td>\n",
              "      <td>...</td>\n",
              "      <td>...</td>\n",
              "      <td>...</td>\n",
              "      <td>...</td>\n",
              "    </tr>\n",
              "    <tr>\n",
              "      <th>73053</th>\n",
              "      <td>A</td>\n",
              "      <td>87.0</td>\n",
              "      <td>61.0</td>\n",
              "      <td>98.0</td>\n",
              "      <td>80.0</td>\n",
              "      <td>76.0</td>\n",
              "      <td>402.0</td>\n",
              "      <td>P</td>\n",
              "      <td>NaN</td>\n",
              "      <td>NaN</td>\n",
              "    </tr>\n",
              "    <tr>\n",
              "      <th>73055</th>\n",
              "      <td>A</td>\n",
              "      <td>90.0</td>\n",
              "      <td>69.0</td>\n",
              "      <td>94.0</td>\n",
              "      <td>89.0</td>\n",
              "      <td>92.0</td>\n",
              "      <td>434.0</td>\n",
              "      <td>P</td>\n",
              "      <td>NaN</td>\n",
              "      <td>NaN</td>\n",
              "    </tr>\n",
              "    <tr>\n",
              "      <th>73058</th>\n",
              "      <td>A</td>\n",
              "      <td>80.0</td>\n",
              "      <td>62.0</td>\n",
              "      <td>83.0</td>\n",
              "      <td>73.0</td>\n",
              "      <td>86.0</td>\n",
              "      <td>384.0</td>\n",
              "      <td>P</td>\n",
              "      <td>NaN</td>\n",
              "      <td>NaN</td>\n",
              "    </tr>\n",
              "    <tr>\n",
              "      <th>73060</th>\n",
              "      <td>A</td>\n",
              "      <td>92.0</td>\n",
              "      <td>82.0</td>\n",
              "      <td>100.0</td>\n",
              "      <td>96.0</td>\n",
              "      <td>98.0</td>\n",
              "      <td>468.0</td>\n",
              "      <td>P</td>\n",
              "      <td>NaN</td>\n",
              "      <td>NaN</td>\n",
              "    </tr>\n",
              "    <tr>\n",
              "      <th>73061</th>\n",
              "      <td>A</td>\n",
              "      <td>93.0</td>\n",
              "      <td>77.0</td>\n",
              "      <td>100.0</td>\n",
              "      <td>86.0</td>\n",
              "      <td>97.0</td>\n",
              "      <td>453.0</td>\n",
              "      <td>P</td>\n",
              "      <td>NaN</td>\n",
              "      <td>NaN</td>\n",
              "    </tr>\n",
              "  </tbody>\n",
              "</table>\n",
              "<p>30916 rows × 10 columns</p>\n",
              "</div>"
            ],
            "text/plain": [
              "            region    fl    sl   math   sci    ss  total pass withheld  extra\n",
              "roll_number                                                                  \n",
              "10004            A  87.0  64.0   83.0  58.0  65.0  357.0    P      NaN    NaN\n",
              "10008            A  87.0  71.0   97.0  71.0  81.0  407.0    P      NaN    NaN\n",
              "10014            A  83.0  48.0   82.0  42.0  64.0  319.0    P      NaN    NaN\n",
              "10023            A  76.0  58.0   61.0  74.0  73.0  342.0    P      NaN    NaN\n",
              "10031            A  76.0  55.0   60.0  52.0  59.0  302.0    P      NaN    NaN\n",
              "...            ...   ...   ...    ...   ...   ...    ...  ...      ...    ...\n",
              "73053            A  87.0  61.0   98.0  80.0  76.0  402.0    P      NaN    NaN\n",
              "73055            A  90.0  69.0   94.0  89.0  92.0  434.0    P      NaN    NaN\n",
              "73058            A  80.0  62.0   83.0  73.0  86.0  384.0    P      NaN    NaN\n",
              "73060            A  92.0  82.0  100.0  96.0  98.0  468.0    P      NaN    NaN\n",
              "73061            A  93.0  77.0  100.0  86.0  97.0  453.0    P      NaN    NaN\n",
              "\n",
              "[30916 rows x 10 columns]"
            ]
          },
          "metadata": {},
          "execution_count": 315
        }
      ]
    },
    {
      "cell_type": "code",
      "metadata": {
        "colab": {
          "base_uri": "https://localhost:8080/",
          "height": 1000
        },
        "id": "l9Ap8IRtoASR",
        "outputId": "5b158688-1124-465a-936d-98707a07720f"
      },
      "source": [
        "fl_or_sl.head(50)"
      ],
      "id": "l9Ap8IRtoASR",
      "execution_count": null,
      "outputs": [
        {
          "output_type": "execute_result",
          "data": {
            "text/html": [
              "<div>\n",
              "<style scoped>\n",
              "    .dataframe tbody tr th:only-of-type {\n",
              "        vertical-align: middle;\n",
              "    }\n",
              "\n",
              "    .dataframe tbody tr th {\n",
              "        vertical-align: top;\n",
              "    }\n",
              "\n",
              "    .dataframe thead th {\n",
              "        text-align: right;\n",
              "    }\n",
              "</style>\n",
              "<table border=\"1\" class=\"dataframe\">\n",
              "  <thead>\n",
              "    <tr style=\"text-align: right;\">\n",
              "      <th></th>\n",
              "      <th>region</th>\n",
              "      <th>fl</th>\n",
              "      <th>sl</th>\n",
              "      <th>math</th>\n",
              "      <th>sci</th>\n",
              "      <th>ss</th>\n",
              "      <th>total</th>\n",
              "      <th>pass</th>\n",
              "      <th>withheld</th>\n",
              "      <th>extra</th>\n",
              "    </tr>\n",
              "    <tr>\n",
              "      <th>roll_number</th>\n",
              "      <th></th>\n",
              "      <th></th>\n",
              "      <th></th>\n",
              "      <th></th>\n",
              "      <th></th>\n",
              "      <th></th>\n",
              "      <th></th>\n",
              "      <th></th>\n",
              "      <th></th>\n",
              "      <th></th>\n",
              "    </tr>\n",
              "  </thead>\n",
              "  <tbody>\n",
              "    <tr>\n",
              "      <th>10004</th>\n",
              "      <td>A</td>\n",
              "      <td>87.0</td>\n",
              "      <td>64.0</td>\n",
              "      <td>83.0</td>\n",
              "      <td>58.0</td>\n",
              "      <td>65.0</td>\n",
              "      <td>357.0</td>\n",
              "      <td>P</td>\n",
              "      <td>NaN</td>\n",
              "      <td>NaN</td>\n",
              "    </tr>\n",
              "    <tr>\n",
              "      <th>10008</th>\n",
              "      <td>A</td>\n",
              "      <td>87.0</td>\n",
              "      <td>71.0</td>\n",
              "      <td>97.0</td>\n",
              "      <td>71.0</td>\n",
              "      <td>81.0</td>\n",
              "      <td>407.0</td>\n",
              "      <td>P</td>\n",
              "      <td>NaN</td>\n",
              "      <td>NaN</td>\n",
              "    </tr>\n",
              "    <tr>\n",
              "      <th>10014</th>\n",
              "      <td>A</td>\n",
              "      <td>83.0</td>\n",
              "      <td>48.0</td>\n",
              "      <td>82.0</td>\n",
              "      <td>42.0</td>\n",
              "      <td>64.0</td>\n",
              "      <td>319.0</td>\n",
              "      <td>P</td>\n",
              "      <td>NaN</td>\n",
              "      <td>NaN</td>\n",
              "    </tr>\n",
              "    <tr>\n",
              "      <th>10023</th>\n",
              "      <td>A</td>\n",
              "      <td>76.0</td>\n",
              "      <td>58.0</td>\n",
              "      <td>61.0</td>\n",
              "      <td>74.0</td>\n",
              "      <td>73.0</td>\n",
              "      <td>342.0</td>\n",
              "      <td>P</td>\n",
              "      <td>NaN</td>\n",
              "      <td>NaN</td>\n",
              "    </tr>\n",
              "    <tr>\n",
              "      <th>10031</th>\n",
              "      <td>A</td>\n",
              "      <td>76.0</td>\n",
              "      <td>55.0</td>\n",
              "      <td>60.0</td>\n",
              "      <td>52.0</td>\n",
              "      <td>59.0</td>\n",
              "      <td>302.0</td>\n",
              "      <td>P</td>\n",
              "      <td>NaN</td>\n",
              "      <td>NaN</td>\n",
              "    </tr>\n",
              "    <tr>\n",
              "      <th>10042</th>\n",
              "      <td>A</td>\n",
              "      <td>82.0</td>\n",
              "      <td>59.0</td>\n",
              "      <td>71.0</td>\n",
              "      <td>53.0</td>\n",
              "      <td>63.0</td>\n",
              "      <td>328.0</td>\n",
              "      <td>P</td>\n",
              "      <td>NaN</td>\n",
              "      <td>NaN</td>\n",
              "    </tr>\n",
              "    <tr>\n",
              "      <th>10045</th>\n",
              "      <td>A</td>\n",
              "      <td>79.0</td>\n",
              "      <td>57.0</td>\n",
              "      <td>85.0</td>\n",
              "      <td>59.0</td>\n",
              "      <td>60.0</td>\n",
              "      <td>340.0</td>\n",
              "      <td>P</td>\n",
              "      <td>NaN</td>\n",
              "      <td>NaN</td>\n",
              "    </tr>\n",
              "    <tr>\n",
              "      <th>10048</th>\n",
              "      <td>A</td>\n",
              "      <td>86.0</td>\n",
              "      <td>72.0</td>\n",
              "      <td>78.0</td>\n",
              "      <td>84.0</td>\n",
              "      <td>78.0</td>\n",
              "      <td>398.0</td>\n",
              "      <td>P</td>\n",
              "      <td>NaN</td>\n",
              "      <td>NaN</td>\n",
              "    </tr>\n",
              "    <tr>\n",
              "      <th>10054</th>\n",
              "      <td>A</td>\n",
              "      <td>76.0</td>\n",
              "      <td>71.0</td>\n",
              "      <td>85.0</td>\n",
              "      <td>71.0</td>\n",
              "      <td>64.0</td>\n",
              "      <td>367.0</td>\n",
              "      <td>P</td>\n",
              "      <td>NaN</td>\n",
              "      <td>NaN</td>\n",
              "    </tr>\n",
              "    <tr>\n",
              "      <th>10058</th>\n",
              "      <td>A</td>\n",
              "      <td>77.0</td>\n",
              "      <td>65.0</td>\n",
              "      <td>62.0</td>\n",
              "      <td>49.0</td>\n",
              "      <td>48.0</td>\n",
              "      <td>301.0</td>\n",
              "      <td>P</td>\n",
              "      <td>NaN</td>\n",
              "      <td>NaN</td>\n",
              "    </tr>\n",
              "    <tr>\n",
              "      <th>10063</th>\n",
              "      <td>A</td>\n",
              "      <td>78.0</td>\n",
              "      <td>55.0</td>\n",
              "      <td>57.0</td>\n",
              "      <td>48.0</td>\n",
              "      <td>78.0</td>\n",
              "      <td>316.0</td>\n",
              "      <td>P</td>\n",
              "      <td>NaN</td>\n",
              "      <td>NaN</td>\n",
              "    </tr>\n",
              "    <tr>\n",
              "      <th>10069</th>\n",
              "      <td>A</td>\n",
              "      <td>84.0</td>\n",
              "      <td>66.0</td>\n",
              "      <td>96.0</td>\n",
              "      <td>62.0</td>\n",
              "      <td>78.0</td>\n",
              "      <td>386.0</td>\n",
              "      <td>P</td>\n",
              "      <td>NaN</td>\n",
              "      <td>NaN</td>\n",
              "    </tr>\n",
              "    <tr>\n",
              "      <th>10070</th>\n",
              "      <td>A</td>\n",
              "      <td>83.0</td>\n",
              "      <td>69.0</td>\n",
              "      <td>78.0</td>\n",
              "      <td>74.0</td>\n",
              "      <td>87.0</td>\n",
              "      <td>391.0</td>\n",
              "      <td>P</td>\n",
              "      <td>NaN</td>\n",
              "      <td>NaN</td>\n",
              "    </tr>\n",
              "    <tr>\n",
              "      <th>10071</th>\n",
              "      <td>A</td>\n",
              "      <td>80.0</td>\n",
              "      <td>61.0</td>\n",
              "      <td>89.0</td>\n",
              "      <td>56.0</td>\n",
              "      <td>78.0</td>\n",
              "      <td>364.0</td>\n",
              "      <td>P</td>\n",
              "      <td>NaN</td>\n",
              "      <td>NaN</td>\n",
              "    </tr>\n",
              "    <tr>\n",
              "      <th>10072</th>\n",
              "      <td>A</td>\n",
              "      <td>78.0</td>\n",
              "      <td>53.0</td>\n",
              "      <td>79.0</td>\n",
              "      <td>38.0</td>\n",
              "      <td>73.0</td>\n",
              "      <td>321.0</td>\n",
              "      <td>P</td>\n",
              "      <td>NaN</td>\n",
              "      <td>NaN</td>\n",
              "    </tr>\n",
              "    <tr>\n",
              "      <th>10076</th>\n",
              "      <td>A</td>\n",
              "      <td>85.0</td>\n",
              "      <td>62.0</td>\n",
              "      <td>73.0</td>\n",
              "      <td>86.0</td>\n",
              "      <td>80.0</td>\n",
              "      <td>386.0</td>\n",
              "      <td>P</td>\n",
              "      <td>NaN</td>\n",
              "      <td>NaN</td>\n",
              "    </tr>\n",
              "    <tr>\n",
              "      <th>10077</th>\n",
              "      <td>A</td>\n",
              "      <td>84.0</td>\n",
              "      <td>64.0</td>\n",
              "      <td>87.0</td>\n",
              "      <td>53.0</td>\n",
              "      <td>85.0</td>\n",
              "      <td>373.0</td>\n",
              "      <td>P</td>\n",
              "      <td>NaN</td>\n",
              "      <td>NaN</td>\n",
              "    </tr>\n",
              "    <tr>\n",
              "      <th>10079</th>\n",
              "      <td>A</td>\n",
              "      <td>84.0</td>\n",
              "      <td>57.0</td>\n",
              "      <td>75.0</td>\n",
              "      <td>65.0</td>\n",
              "      <td>68.0</td>\n",
              "      <td>349.0</td>\n",
              "      <td>P</td>\n",
              "      <td>NaN</td>\n",
              "      <td>NaN</td>\n",
              "    </tr>\n",
              "    <tr>\n",
              "      <th>10081</th>\n",
              "      <td>A</td>\n",
              "      <td>90.0</td>\n",
              "      <td>66.0</td>\n",
              "      <td>81.0</td>\n",
              "      <td>52.0</td>\n",
              "      <td>79.0</td>\n",
              "      <td>368.0</td>\n",
              "      <td>P</td>\n",
              "      <td>NaN</td>\n",
              "      <td>NaN</td>\n",
              "    </tr>\n",
              "    <tr>\n",
              "      <th>10082</th>\n",
              "      <td>A</td>\n",
              "      <td>93.0</td>\n",
              "      <td>77.0</td>\n",
              "      <td>88.0</td>\n",
              "      <td>76.0</td>\n",
              "      <td>93.0</td>\n",
              "      <td>427.0</td>\n",
              "      <td>P</td>\n",
              "      <td>NaN</td>\n",
              "      <td>NaN</td>\n",
              "    </tr>\n",
              "    <tr>\n",
              "      <th>10083</th>\n",
              "      <td>A</td>\n",
              "      <td>83.0</td>\n",
              "      <td>75.0</td>\n",
              "      <td>90.0</td>\n",
              "      <td>67.0</td>\n",
              "      <td>66.0</td>\n",
              "      <td>381.0</td>\n",
              "      <td>P</td>\n",
              "      <td>NaN</td>\n",
              "      <td>NaN</td>\n",
              "    </tr>\n",
              "    <tr>\n",
              "      <th>10086</th>\n",
              "      <td>A</td>\n",
              "      <td>86.0</td>\n",
              "      <td>54.0</td>\n",
              "      <td>68.0</td>\n",
              "      <td>64.0</td>\n",
              "      <td>70.0</td>\n",
              "      <td>342.0</td>\n",
              "      <td>P</td>\n",
              "      <td>NaN</td>\n",
              "      <td>NaN</td>\n",
              "    </tr>\n",
              "    <tr>\n",
              "      <th>10088</th>\n",
              "      <td>A</td>\n",
              "      <td>92.0</td>\n",
              "      <td>77.0</td>\n",
              "      <td>99.0</td>\n",
              "      <td>76.0</td>\n",
              "      <td>92.0</td>\n",
              "      <td>436.0</td>\n",
              "      <td>P</td>\n",
              "      <td>NaN</td>\n",
              "      <td>NaN</td>\n",
              "    </tr>\n",
              "    <tr>\n",
              "      <th>10093</th>\n",
              "      <td>A</td>\n",
              "      <td>89.0</td>\n",
              "      <td>55.0</td>\n",
              "      <td>68.0</td>\n",
              "      <td>51.0</td>\n",
              "      <td>70.0</td>\n",
              "      <td>333.0</td>\n",
              "      <td>P</td>\n",
              "      <td>NaN</td>\n",
              "      <td>NaN</td>\n",
              "    </tr>\n",
              "    <tr>\n",
              "      <th>10094</th>\n",
              "      <td>A</td>\n",
              "      <td>81.0</td>\n",
              "      <td>48.0</td>\n",
              "      <td>56.0</td>\n",
              "      <td>62.0</td>\n",
              "      <td>85.0</td>\n",
              "      <td>332.0</td>\n",
              "      <td>P</td>\n",
              "      <td>NaN</td>\n",
              "      <td>NaN</td>\n",
              "    </tr>\n",
              "    <tr>\n",
              "      <th>10095</th>\n",
              "      <td>A</td>\n",
              "      <td>92.0</td>\n",
              "      <td>68.0</td>\n",
              "      <td>89.0</td>\n",
              "      <td>74.0</td>\n",
              "      <td>87.0</td>\n",
              "      <td>410.0</td>\n",
              "      <td>P</td>\n",
              "      <td>NaN</td>\n",
              "      <td>NaN</td>\n",
              "    </tr>\n",
              "    <tr>\n",
              "      <th>10097</th>\n",
              "      <td>A</td>\n",
              "      <td>83.0</td>\n",
              "      <td>57.0</td>\n",
              "      <td>63.0</td>\n",
              "      <td>42.0</td>\n",
              "      <td>80.0</td>\n",
              "      <td>325.0</td>\n",
              "      <td>P</td>\n",
              "      <td>NaN</td>\n",
              "      <td>NaN</td>\n",
              "    </tr>\n",
              "    <tr>\n",
              "      <th>10099</th>\n",
              "      <td>A</td>\n",
              "      <td>82.0</td>\n",
              "      <td>53.0</td>\n",
              "      <td>75.0</td>\n",
              "      <td>50.0</td>\n",
              "      <td>80.0</td>\n",
              "      <td>340.0</td>\n",
              "      <td>P</td>\n",
              "      <td>NaN</td>\n",
              "      <td>NaN</td>\n",
              "    </tr>\n",
              "    <tr>\n",
              "      <th>10104</th>\n",
              "      <td>A</td>\n",
              "      <td>81.0</td>\n",
              "      <td>66.0</td>\n",
              "      <td>89.0</td>\n",
              "      <td>72.0</td>\n",
              "      <td>83.0</td>\n",
              "      <td>391.0</td>\n",
              "      <td>P</td>\n",
              "      <td>NaN</td>\n",
              "      <td>NaN</td>\n",
              "    </tr>\n",
              "    <tr>\n",
              "      <th>10106</th>\n",
              "      <td>A</td>\n",
              "      <td>89.0</td>\n",
              "      <td>60.0</td>\n",
              "      <td>90.0</td>\n",
              "      <td>74.0</td>\n",
              "      <td>75.0</td>\n",
              "      <td>388.0</td>\n",
              "      <td>P</td>\n",
              "      <td>NaN</td>\n",
              "      <td>NaN</td>\n",
              "    </tr>\n",
              "    <tr>\n",
              "      <th>10107</th>\n",
              "      <td>A</td>\n",
              "      <td>87.0</td>\n",
              "      <td>63.0</td>\n",
              "      <td>82.0</td>\n",
              "      <td>59.0</td>\n",
              "      <td>79.0</td>\n",
              "      <td>370.0</td>\n",
              "      <td>P</td>\n",
              "      <td>NaN</td>\n",
              "      <td>NaN</td>\n",
              "    </tr>\n",
              "    <tr>\n",
              "      <th>10108</th>\n",
              "      <td>A</td>\n",
              "      <td>82.0</td>\n",
              "      <td>54.0</td>\n",
              "      <td>50.0</td>\n",
              "      <td>44.0</td>\n",
              "      <td>63.0</td>\n",
              "      <td>293.0</td>\n",
              "      <td>P</td>\n",
              "      <td>NaN</td>\n",
              "      <td>NaN</td>\n",
              "    </tr>\n",
              "    <tr>\n",
              "      <th>10109</th>\n",
              "      <td>A</td>\n",
              "      <td>89.0</td>\n",
              "      <td>74.0</td>\n",
              "      <td>86.0</td>\n",
              "      <td>89.0</td>\n",
              "      <td>84.0</td>\n",
              "      <td>422.0</td>\n",
              "      <td>P</td>\n",
              "      <td>NaN</td>\n",
              "      <td>NaN</td>\n",
              "    </tr>\n",
              "    <tr>\n",
              "      <th>10110</th>\n",
              "      <td>A</td>\n",
              "      <td>84.0</td>\n",
              "      <td>50.0</td>\n",
              "      <td>46.0</td>\n",
              "      <td>38.0</td>\n",
              "      <td>67.0</td>\n",
              "      <td>285.0</td>\n",
              "      <td>P</td>\n",
              "      <td>NaN</td>\n",
              "      <td>NaN</td>\n",
              "    </tr>\n",
              "    <tr>\n",
              "      <th>10111</th>\n",
              "      <td>A</td>\n",
              "      <td>82.0</td>\n",
              "      <td>52.0</td>\n",
              "      <td>51.0</td>\n",
              "      <td>35.0</td>\n",
              "      <td>57.0</td>\n",
              "      <td>277.0</td>\n",
              "      <td>P</td>\n",
              "      <td>NaN</td>\n",
              "      <td>NaN</td>\n",
              "    </tr>\n",
              "    <tr>\n",
              "      <th>10112</th>\n",
              "      <td>A</td>\n",
              "      <td>76.0</td>\n",
              "      <td>52.0</td>\n",
              "      <td>84.0</td>\n",
              "      <td>51.0</td>\n",
              "      <td>63.0</td>\n",
              "      <td>326.0</td>\n",
              "      <td>P</td>\n",
              "      <td>NaN</td>\n",
              "      <td>NaN</td>\n",
              "    </tr>\n",
              "    <tr>\n",
              "      <th>10113</th>\n",
              "      <td>A</td>\n",
              "      <td>80.0</td>\n",
              "      <td>47.0</td>\n",
              "      <td>54.0</td>\n",
              "      <td>35.0</td>\n",
              "      <td>61.0</td>\n",
              "      <td>277.0</td>\n",
              "      <td>P</td>\n",
              "      <td>NaN</td>\n",
              "      <td>NaN</td>\n",
              "    </tr>\n",
              "    <tr>\n",
              "      <th>10114</th>\n",
              "      <td>A</td>\n",
              "      <td>78.0</td>\n",
              "      <td>47.0</td>\n",
              "      <td>44.0</td>\n",
              "      <td>37.0</td>\n",
              "      <td>58.0</td>\n",
              "      <td>264.0</td>\n",
              "      <td>P</td>\n",
              "      <td>NaN</td>\n",
              "      <td>NaN</td>\n",
              "    </tr>\n",
              "    <tr>\n",
              "      <th>10116</th>\n",
              "      <td>A</td>\n",
              "      <td>76.0</td>\n",
              "      <td>50.0</td>\n",
              "      <td>63.0</td>\n",
              "      <td>35.0</td>\n",
              "      <td>55.0</td>\n",
              "      <td>279.0</td>\n",
              "      <td>P</td>\n",
              "      <td>NaN</td>\n",
              "      <td>NaN</td>\n",
              "    </tr>\n",
              "    <tr>\n",
              "      <th>10118</th>\n",
              "      <td>A</td>\n",
              "      <td>86.0</td>\n",
              "      <td>54.0</td>\n",
              "      <td>77.0</td>\n",
              "      <td>52.0</td>\n",
              "      <td>62.0</td>\n",
              "      <td>331.0</td>\n",
              "      <td>P</td>\n",
              "      <td>NaN</td>\n",
              "      <td>NaN</td>\n",
              "    </tr>\n",
              "    <tr>\n",
              "      <th>10119</th>\n",
              "      <td>A</td>\n",
              "      <td>84.0</td>\n",
              "      <td>46.0</td>\n",
              "      <td>56.0</td>\n",
              "      <td>41.0</td>\n",
              "      <td>67.0</td>\n",
              "      <td>294.0</td>\n",
              "      <td>P</td>\n",
              "      <td>NaN</td>\n",
              "      <td>NaN</td>\n",
              "    </tr>\n",
              "    <tr>\n",
              "      <th>10120</th>\n",
              "      <td>A</td>\n",
              "      <td>78.0</td>\n",
              "      <td>47.0</td>\n",
              "      <td>46.0</td>\n",
              "      <td>40.0</td>\n",
              "      <td>54.0</td>\n",
              "      <td>265.0</td>\n",
              "      <td>P</td>\n",
              "      <td>NaN</td>\n",
              "      <td>NaN</td>\n",
              "    </tr>\n",
              "    <tr>\n",
              "      <th>10125</th>\n",
              "      <td>A</td>\n",
              "      <td>77.0</td>\n",
              "      <td>51.0</td>\n",
              "      <td>36.0</td>\n",
              "      <td>35.0</td>\n",
              "      <td>55.0</td>\n",
              "      <td>254.0</td>\n",
              "      <td>P</td>\n",
              "      <td>NaN</td>\n",
              "      <td>NaN</td>\n",
              "    </tr>\n",
              "    <tr>\n",
              "      <th>10126</th>\n",
              "      <td>A</td>\n",
              "      <td>83.0</td>\n",
              "      <td>48.0</td>\n",
              "      <td>65.0</td>\n",
              "      <td>35.0</td>\n",
              "      <td>57.0</td>\n",
              "      <td>288.0</td>\n",
              "      <td>P</td>\n",
              "      <td>NaN</td>\n",
              "      <td>NaN</td>\n",
              "    </tr>\n",
              "    <tr>\n",
              "      <th>10128</th>\n",
              "      <td>A</td>\n",
              "      <td>87.0</td>\n",
              "      <td>57.0</td>\n",
              "      <td>57.0</td>\n",
              "      <td>63.0</td>\n",
              "      <td>73.0</td>\n",
              "      <td>337.0</td>\n",
              "      <td>P</td>\n",
              "      <td>NaN</td>\n",
              "      <td>NaN</td>\n",
              "    </tr>\n",
              "    <tr>\n",
              "      <th>10130</th>\n",
              "      <td>A</td>\n",
              "      <td>86.0</td>\n",
              "      <td>48.0</td>\n",
              "      <td>48.0</td>\n",
              "      <td>47.0</td>\n",
              "      <td>69.0</td>\n",
              "      <td>298.0</td>\n",
              "      <td>P</td>\n",
              "      <td>NaN</td>\n",
              "      <td>NaN</td>\n",
              "    </tr>\n",
              "    <tr>\n",
              "      <th>10131</th>\n",
              "      <td>A</td>\n",
              "      <td>84.0</td>\n",
              "      <td>54.0</td>\n",
              "      <td>77.0</td>\n",
              "      <td>47.0</td>\n",
              "      <td>55.0</td>\n",
              "      <td>317.0</td>\n",
              "      <td>P</td>\n",
              "      <td>NaN</td>\n",
              "      <td>NaN</td>\n",
              "    </tr>\n",
              "    <tr>\n",
              "      <th>10133</th>\n",
              "      <td>A</td>\n",
              "      <td>77.0</td>\n",
              "      <td>49.0</td>\n",
              "      <td>89.0</td>\n",
              "      <td>47.0</td>\n",
              "      <td>70.0</td>\n",
              "      <td>332.0</td>\n",
              "      <td>P</td>\n",
              "      <td>NaN</td>\n",
              "      <td>NaN</td>\n",
              "    </tr>\n",
              "    <tr>\n",
              "      <th>10134</th>\n",
              "      <td>A</td>\n",
              "      <td>77.0</td>\n",
              "      <td>51.0</td>\n",
              "      <td>58.0</td>\n",
              "      <td>52.0</td>\n",
              "      <td>75.0</td>\n",
              "      <td>313.0</td>\n",
              "      <td>P</td>\n",
              "      <td>NaN</td>\n",
              "      <td>NaN</td>\n",
              "    </tr>\n",
              "    <tr>\n",
              "      <th>10137</th>\n",
              "      <td>A</td>\n",
              "      <td>82.0</td>\n",
              "      <td>60.0</td>\n",
              "      <td>63.0</td>\n",
              "      <td>65.0</td>\n",
              "      <td>77.0</td>\n",
              "      <td>347.0</td>\n",
              "      <td>P</td>\n",
              "      <td>NaN</td>\n",
              "      <td>NaN</td>\n",
              "    </tr>\n",
              "  </tbody>\n",
              "</table>\n",
              "</div>"
            ],
            "text/plain": [
              "            region    fl    sl  math   sci    ss  total pass withheld  extra\n",
              "roll_number                                                                 \n",
              "10004            A  87.0  64.0  83.0  58.0  65.0  357.0    P      NaN    NaN\n",
              "10008            A  87.0  71.0  97.0  71.0  81.0  407.0    P      NaN    NaN\n",
              "10014            A  83.0  48.0  82.0  42.0  64.0  319.0    P      NaN    NaN\n",
              "10023            A  76.0  58.0  61.0  74.0  73.0  342.0    P      NaN    NaN\n",
              "10031            A  76.0  55.0  60.0  52.0  59.0  302.0    P      NaN    NaN\n",
              "10042            A  82.0  59.0  71.0  53.0  63.0  328.0    P      NaN    NaN\n",
              "10045            A  79.0  57.0  85.0  59.0  60.0  340.0    P      NaN    NaN\n",
              "10048            A  86.0  72.0  78.0  84.0  78.0  398.0    P      NaN    NaN\n",
              "10054            A  76.0  71.0  85.0  71.0  64.0  367.0    P      NaN    NaN\n",
              "10058            A  77.0  65.0  62.0  49.0  48.0  301.0    P      NaN    NaN\n",
              "10063            A  78.0  55.0  57.0  48.0  78.0  316.0    P      NaN    NaN\n",
              "10069            A  84.0  66.0  96.0  62.0  78.0  386.0    P      NaN    NaN\n",
              "10070            A  83.0  69.0  78.0  74.0  87.0  391.0    P      NaN    NaN\n",
              "10071            A  80.0  61.0  89.0  56.0  78.0  364.0    P      NaN    NaN\n",
              "10072            A  78.0  53.0  79.0  38.0  73.0  321.0    P      NaN    NaN\n",
              "10076            A  85.0  62.0  73.0  86.0  80.0  386.0    P      NaN    NaN\n",
              "10077            A  84.0  64.0  87.0  53.0  85.0  373.0    P      NaN    NaN\n",
              "10079            A  84.0  57.0  75.0  65.0  68.0  349.0    P      NaN    NaN\n",
              "10081            A  90.0  66.0  81.0  52.0  79.0  368.0    P      NaN    NaN\n",
              "10082            A  93.0  77.0  88.0  76.0  93.0  427.0    P      NaN    NaN\n",
              "10083            A  83.0  75.0  90.0  67.0  66.0  381.0    P      NaN    NaN\n",
              "10086            A  86.0  54.0  68.0  64.0  70.0  342.0    P      NaN    NaN\n",
              "10088            A  92.0  77.0  99.0  76.0  92.0  436.0    P      NaN    NaN\n",
              "10093            A  89.0  55.0  68.0  51.0  70.0  333.0    P      NaN    NaN\n",
              "10094            A  81.0  48.0  56.0  62.0  85.0  332.0    P      NaN    NaN\n",
              "10095            A  92.0  68.0  89.0  74.0  87.0  410.0    P      NaN    NaN\n",
              "10097            A  83.0  57.0  63.0  42.0  80.0  325.0    P      NaN    NaN\n",
              "10099            A  82.0  53.0  75.0  50.0  80.0  340.0    P      NaN    NaN\n",
              "10104            A  81.0  66.0  89.0  72.0  83.0  391.0    P      NaN    NaN\n",
              "10106            A  89.0  60.0  90.0  74.0  75.0  388.0    P      NaN    NaN\n",
              "10107            A  87.0  63.0  82.0  59.0  79.0  370.0    P      NaN    NaN\n",
              "10108            A  82.0  54.0  50.0  44.0  63.0  293.0    P      NaN    NaN\n",
              "10109            A  89.0  74.0  86.0  89.0  84.0  422.0    P      NaN    NaN\n",
              "10110            A  84.0  50.0  46.0  38.0  67.0  285.0    P      NaN    NaN\n",
              "10111            A  82.0  52.0  51.0  35.0  57.0  277.0    P      NaN    NaN\n",
              "10112            A  76.0  52.0  84.0  51.0  63.0  326.0    P      NaN    NaN\n",
              "10113            A  80.0  47.0  54.0  35.0  61.0  277.0    P      NaN    NaN\n",
              "10114            A  78.0  47.0  44.0  37.0  58.0  264.0    P      NaN    NaN\n",
              "10116            A  76.0  50.0  63.0  35.0  55.0  279.0    P      NaN    NaN\n",
              "10118            A  86.0  54.0  77.0  52.0  62.0  331.0    P      NaN    NaN\n",
              "10119            A  84.0  46.0  56.0  41.0  67.0  294.0    P      NaN    NaN\n",
              "10120            A  78.0  47.0  46.0  40.0  54.0  265.0    P      NaN    NaN\n",
              "10125            A  77.0  51.0  36.0  35.0  55.0  254.0    P      NaN    NaN\n",
              "10126            A  83.0  48.0  65.0  35.0  57.0  288.0    P      NaN    NaN\n",
              "10128            A  87.0  57.0  57.0  63.0  73.0  337.0    P      NaN    NaN\n",
              "10130            A  86.0  48.0  48.0  47.0  69.0  298.0    P      NaN    NaN\n",
              "10131            A  84.0  54.0  77.0  47.0  55.0  317.0    P      NaN    NaN\n",
              "10133            A  77.0  49.0  89.0  47.0  70.0  332.0    P      NaN    NaN\n",
              "10134            A  77.0  51.0  58.0  52.0  75.0  313.0    P      NaN    NaN\n",
              "10137            A  82.0  60.0  63.0  65.0  77.0  347.0    P      NaN    NaN"
            ]
          },
          "metadata": {},
          "execution_count": 318
        }
      ]
    },
    {
      "cell_type": "code",
      "metadata": {
        "id": "13fc7c0e"
      },
      "source": [
        "fl_xor_sl = sslc[(sslc['fl']>75) ^ (sslc['sl']>75)]"
      ],
      "id": "13fc7c0e",
      "execution_count": null,
      "outputs": []
    },
    {
      "cell_type": "code",
      "metadata": {
        "id": "6a39fa8e",
        "colab": {
          "base_uri": "https://localhost:8080/",
          "height": 455
        },
        "outputId": "ddfdaf07-f64d-4b0a-bcd9-f968271afb0e"
      },
      "source": [
        "fl_xor_sl"
      ],
      "id": "6a39fa8e",
      "execution_count": null,
      "outputs": [
        {
          "output_type": "execute_result",
          "data": {
            "text/html": [
              "<div>\n",
              "<style scoped>\n",
              "    .dataframe tbody tr th:only-of-type {\n",
              "        vertical-align: middle;\n",
              "    }\n",
              "\n",
              "    .dataframe tbody tr th {\n",
              "        vertical-align: top;\n",
              "    }\n",
              "\n",
              "    .dataframe thead th {\n",
              "        text-align: right;\n",
              "    }\n",
              "</style>\n",
              "<table border=\"1\" class=\"dataframe\">\n",
              "  <thead>\n",
              "    <tr style=\"text-align: right;\">\n",
              "      <th></th>\n",
              "      <th>region</th>\n",
              "      <th>fl</th>\n",
              "      <th>sl</th>\n",
              "      <th>math</th>\n",
              "      <th>sci</th>\n",
              "      <th>ss</th>\n",
              "      <th>total</th>\n",
              "      <th>pass</th>\n",
              "      <th>withheld</th>\n",
              "      <th>extra</th>\n",
              "    </tr>\n",
              "    <tr>\n",
              "      <th>roll_number</th>\n",
              "      <th></th>\n",
              "      <th></th>\n",
              "      <th></th>\n",
              "      <th></th>\n",
              "      <th></th>\n",
              "      <th></th>\n",
              "      <th></th>\n",
              "      <th></th>\n",
              "      <th></th>\n",
              "      <th></th>\n",
              "    </tr>\n",
              "  </thead>\n",
              "  <tbody>\n",
              "    <tr>\n",
              "      <th>10004</th>\n",
              "      <td>A</td>\n",
              "      <td>87.0</td>\n",
              "      <td>64.0</td>\n",
              "      <td>83.0</td>\n",
              "      <td>58.0</td>\n",
              "      <td>65.0</td>\n",
              "      <td>357.0</td>\n",
              "      <td>P</td>\n",
              "      <td>NaN</td>\n",
              "      <td>NaN</td>\n",
              "    </tr>\n",
              "    <tr>\n",
              "      <th>10008</th>\n",
              "      <td>A</td>\n",
              "      <td>87.0</td>\n",
              "      <td>71.0</td>\n",
              "      <td>97.0</td>\n",
              "      <td>71.0</td>\n",
              "      <td>81.0</td>\n",
              "      <td>407.0</td>\n",
              "      <td>P</td>\n",
              "      <td>NaN</td>\n",
              "      <td>NaN</td>\n",
              "    </tr>\n",
              "    <tr>\n",
              "      <th>10014</th>\n",
              "      <td>A</td>\n",
              "      <td>83.0</td>\n",
              "      <td>48.0</td>\n",
              "      <td>82.0</td>\n",
              "      <td>42.0</td>\n",
              "      <td>64.0</td>\n",
              "      <td>319.0</td>\n",
              "      <td>P</td>\n",
              "      <td>NaN</td>\n",
              "      <td>NaN</td>\n",
              "    </tr>\n",
              "    <tr>\n",
              "      <th>10023</th>\n",
              "      <td>A</td>\n",
              "      <td>76.0</td>\n",
              "      <td>58.0</td>\n",
              "      <td>61.0</td>\n",
              "      <td>74.0</td>\n",
              "      <td>73.0</td>\n",
              "      <td>342.0</td>\n",
              "      <td>P</td>\n",
              "      <td>NaN</td>\n",
              "      <td>NaN</td>\n",
              "    </tr>\n",
              "    <tr>\n",
              "      <th>10031</th>\n",
              "      <td>A</td>\n",
              "      <td>76.0</td>\n",
              "      <td>55.0</td>\n",
              "      <td>60.0</td>\n",
              "      <td>52.0</td>\n",
              "      <td>59.0</td>\n",
              "      <td>302.0</td>\n",
              "      <td>P</td>\n",
              "      <td>NaN</td>\n",
              "      <td>NaN</td>\n",
              "    </tr>\n",
              "    <tr>\n",
              "      <th>...</th>\n",
              "      <td>...</td>\n",
              "      <td>...</td>\n",
              "      <td>...</td>\n",
              "      <td>...</td>\n",
              "      <td>...</td>\n",
              "      <td>...</td>\n",
              "      <td>...</td>\n",
              "      <td>...</td>\n",
              "      <td>...</td>\n",
              "      <td>...</td>\n",
              "    </tr>\n",
              "    <tr>\n",
              "      <th>73050</th>\n",
              "      <td>A</td>\n",
              "      <td>83.0</td>\n",
              "      <td>67.0</td>\n",
              "      <td>77.0</td>\n",
              "      <td>68.0</td>\n",
              "      <td>83.0</td>\n",
              "      <td>378.0</td>\n",
              "      <td>P</td>\n",
              "      <td>NaN</td>\n",
              "      <td>NaN</td>\n",
              "    </tr>\n",
              "    <tr>\n",
              "      <th>73051</th>\n",
              "      <td>A</td>\n",
              "      <td>78.0</td>\n",
              "      <td>51.0</td>\n",
              "      <td>46.0</td>\n",
              "      <td>62.0</td>\n",
              "      <td>68.0</td>\n",
              "      <td>305.0</td>\n",
              "      <td>P</td>\n",
              "      <td>NaN</td>\n",
              "      <td>NaN</td>\n",
              "    </tr>\n",
              "    <tr>\n",
              "      <th>73053</th>\n",
              "      <td>A</td>\n",
              "      <td>87.0</td>\n",
              "      <td>61.0</td>\n",
              "      <td>98.0</td>\n",
              "      <td>80.0</td>\n",
              "      <td>76.0</td>\n",
              "      <td>402.0</td>\n",
              "      <td>P</td>\n",
              "      <td>NaN</td>\n",
              "      <td>NaN</td>\n",
              "    </tr>\n",
              "    <tr>\n",
              "      <th>73055</th>\n",
              "      <td>A</td>\n",
              "      <td>90.0</td>\n",
              "      <td>69.0</td>\n",
              "      <td>94.0</td>\n",
              "      <td>89.0</td>\n",
              "      <td>92.0</td>\n",
              "      <td>434.0</td>\n",
              "      <td>P</td>\n",
              "      <td>NaN</td>\n",
              "      <td>NaN</td>\n",
              "    </tr>\n",
              "    <tr>\n",
              "      <th>73058</th>\n",
              "      <td>A</td>\n",
              "      <td>80.0</td>\n",
              "      <td>62.0</td>\n",
              "      <td>83.0</td>\n",
              "      <td>73.0</td>\n",
              "      <td>86.0</td>\n",
              "      <td>384.0</td>\n",
              "      <td>P</td>\n",
              "      <td>NaN</td>\n",
              "      <td>NaN</td>\n",
              "    </tr>\n",
              "  </tbody>\n",
              "</table>\n",
              "<p>25235 rows × 10 columns</p>\n",
              "</div>"
            ],
            "text/plain": [
              "            region    fl    sl  math   sci    ss  total pass withheld  extra\n",
              "roll_number                                                                 \n",
              "10004            A  87.0  64.0  83.0  58.0  65.0  357.0    P      NaN    NaN\n",
              "10008            A  87.0  71.0  97.0  71.0  81.0  407.0    P      NaN    NaN\n",
              "10014            A  83.0  48.0  82.0  42.0  64.0  319.0    P      NaN    NaN\n",
              "10023            A  76.0  58.0  61.0  74.0  73.0  342.0    P      NaN    NaN\n",
              "10031            A  76.0  55.0  60.0  52.0  59.0  302.0    P      NaN    NaN\n",
              "...            ...   ...   ...   ...   ...   ...    ...  ...      ...    ...\n",
              "73050            A  83.0  67.0  77.0  68.0  83.0  378.0    P      NaN    NaN\n",
              "73051            A  78.0  51.0  46.0  62.0  68.0  305.0    P      NaN    NaN\n",
              "73053            A  87.0  61.0  98.0  80.0  76.0  402.0    P      NaN    NaN\n",
              "73055            A  90.0  69.0  94.0  89.0  92.0  434.0    P      NaN    NaN\n",
              "73058            A  80.0  62.0  83.0  73.0  86.0  384.0    P      NaN    NaN\n",
              "\n",
              "[25235 rows x 10 columns]"
            ]
          },
          "metadata": {},
          "execution_count": 320
        }
      ]
    },
    {
      "cell_type": "markdown",
      "metadata": {
        "id": "9855a652"
      },
      "source": [
        "#### Findout number of pass and withheld results regionwise"
      ],
      "id": "9855a652"
    },
    {
      "cell_type": "code",
      "metadata": {
        "id": "e9fe1156",
        "colab": {
          "base_uri": "https://localhost:8080/"
        },
        "outputId": "b4226432-bc84-4d1c-ac31-cae81d5a29bd"
      },
      "source": [
        "sslc.groupby('region')['pass'].value_counts()"
      ],
      "id": "e9fe1156",
      "execution_count": null,
      "outputs": [
        {
          "output_type": "execute_result",
          "data": {
            "text/plain": [
              "region  pass\n",
              "A       P       11310\n",
              "        F        2726\n",
              "B       P        5942\n",
              "        F        1760\n",
              "C       P        6053\n",
              "        F        1315\n",
              "D       P        9761\n",
              "        F        1094\n",
              "E       P        9032\n",
              "        F        1289\n",
              "F       P        9982\n",
              "        F        1653\n",
              "Name: pass, dtype: int64"
            ]
          },
          "metadata": {},
          "execution_count": 321
        }
      ]
    },
    {
      "cell_type": "code",
      "metadata": {
        "id": "8439bfe6",
        "colab": {
          "base_uri": "https://localhost:8080/"
        },
        "outputId": "2eb66b8a-96db-4650-8717-c3068288639d"
      },
      "source": [
        " sslc.groupby('region')['withheld'].value_counts()"
      ],
      "id": "8439bfe6",
      "execution_count": null,
      "outputs": [
        {
          "output_type": "execute_result",
          "data": {
            "text/plain": [
              "region  withheld\n",
              "A       W           14\n",
              "B       W           12\n",
              "C       W           19\n",
              "D       W           14\n",
              "E       W            7\n",
              "F       W           47\n",
              "Name: withheld, dtype: int64"
            ]
          },
          "metadata": {},
          "execution_count": 213
        }
      ]
    },
    {
      "cell_type": "code",
      "metadata": {
        "colab": {
          "base_uri": "https://localhost:8080/"
        },
        "id": "kRnaPpCVooJf",
        "outputId": "e93fe85e-2f37-4289-a8da-6a1c188a0f94"
      },
      "source": [
        "sslc.groupby('region')['math'].min()"
      ],
      "id": "kRnaPpCVooJf",
      "execution_count": null,
      "outputs": [
        {
          "output_type": "execute_result",
          "data": {
            "text/plain": [
              "region\n",
              "A    2.0\n",
              "B    1.0\n",
              "C    2.0\n",
              "D    2.0\n",
              "E    4.0\n",
              "F    1.0\n",
              "Name: math, dtype: float64"
            ]
          },
          "metadata": {},
          "execution_count": 324
        }
      ]
    },
    {
      "cell_type": "markdown",
      "metadata": {
        "id": "c693f922"
      },
      "source": [
        "#### Find the number of first language results withheld"
      ],
      "id": "c693f922"
    },
    {
      "cell_type": "code",
      "metadata": {
        "id": "c07aee99",
        "colab": {
          "base_uri": "https://localhost:8080/"
        },
        "outputId": "c770c3eb-6354-4a13-fa1b-479362ce89ae"
      },
      "source": [
        "sslc['fl'].isnull().sum()"
      ],
      "id": "c07aee99",
      "execution_count": null,
      "outputs": [
        {
          "output_type": "execute_result",
          "data": {
            "text/plain": [
              "11"
            ]
          },
          "metadata": {},
          "execution_count": 325
        }
      ]
    },
    {
      "cell_type": "markdown",
      "metadata": {
        "id": "77de0c6c"
      },
      "source": [
        "#### Create a dataframe with total marks greater than or equal to 300"
      ],
      "id": "77de0c6c"
    },
    {
      "cell_type": "code",
      "metadata": {
        "id": "7b05b763"
      },
      "source": [
        "sslc_60 = sslc[sslc['total']>=300]"
      ],
      "id": "7b05b763",
      "execution_count": null,
      "outputs": []
    },
    {
      "cell_type": "code",
      "metadata": {
        "id": "b1b4d230",
        "colab": {
          "base_uri": "https://localhost:8080/"
        },
        "outputId": "33d9a59b-0222-47b2-d405-6d85d5defda0"
      },
      "source": [
        "# number of records in subdataframe\n",
        "sslc_60.count()"
      ],
      "id": "b1b4d230",
      "execution_count": null,
      "outputs": [
        {
          "output_type": "execute_result",
          "data": {
            "text/plain": [
              "region      30779\n",
              "fl          30778\n",
              "sl          30778\n",
              "math        30779\n",
              "sci         30779\n",
              "ss          30778\n",
              "total       30779\n",
              "pass        30779\n",
              "withheld        1\n",
              "extra           0\n",
              "dtype: int64"
            ]
          },
          "metadata": {},
          "execution_count": 328
        }
      ]
    },
    {
      "cell_type": "markdown",
      "metadata": {
        "id": "def3a16a"
      },
      "source": [
        "### Insert a new column to have sum of language marks"
      ],
      "id": "def3a16a"
    },
    {
      "cell_type": "code",
      "metadata": {
        "id": "44067b47"
      },
      "source": [
        "sslc.insert(3,'language_total',0)"
      ],
      "id": "44067b47",
      "execution_count": null,
      "outputs": []
    },
    {
      "cell_type": "code",
      "metadata": {
        "id": "3f688177",
        "colab": {
          "base_uri": "https://localhost:8080/",
          "height": 257
        },
        "outputId": "409e26db-06bb-43a4-9bff-cf846501fd9f"
      },
      "source": [
        "sslc.head()"
      ],
      "id": "3f688177",
      "execution_count": null,
      "outputs": [
        {
          "output_type": "execute_result",
          "data": {
            "text/html": [
              "<div>\n",
              "<style scoped>\n",
              "    .dataframe tbody tr th:only-of-type {\n",
              "        vertical-align: middle;\n",
              "    }\n",
              "\n",
              "    .dataframe tbody tr th {\n",
              "        vertical-align: top;\n",
              "    }\n",
              "\n",
              "    .dataframe thead th {\n",
              "        text-align: right;\n",
              "    }\n",
              "</style>\n",
              "<table border=\"1\" class=\"dataframe\">\n",
              "  <thead>\n",
              "    <tr style=\"text-align: right;\">\n",
              "      <th></th>\n",
              "      <th>region</th>\n",
              "      <th>fl</th>\n",
              "      <th>sl</th>\n",
              "      <th>language_total</th>\n",
              "      <th>math</th>\n",
              "      <th>sci</th>\n",
              "      <th>ss</th>\n",
              "      <th>total</th>\n",
              "      <th>pass</th>\n",
              "      <th>withheld</th>\n",
              "      <th>extra</th>\n",
              "    </tr>\n",
              "    <tr>\n",
              "      <th>roll_number</th>\n",
              "      <th></th>\n",
              "      <th></th>\n",
              "      <th></th>\n",
              "      <th></th>\n",
              "      <th></th>\n",
              "      <th></th>\n",
              "      <th></th>\n",
              "      <th></th>\n",
              "      <th></th>\n",
              "      <th></th>\n",
              "      <th></th>\n",
              "    </tr>\n",
              "  </thead>\n",
              "  <tbody>\n",
              "    <tr>\n",
              "      <th>10001</th>\n",
              "      <td>A</td>\n",
              "      <td>53.0</td>\n",
              "      <td>36.0</td>\n",
              "      <td>0</td>\n",
              "      <td>28.0</td>\n",
              "      <td>16.0</td>\n",
              "      <td>44.0</td>\n",
              "      <td>177.0</td>\n",
              "      <td>F</td>\n",
              "      <td>NaN</td>\n",
              "      <td>NaN</td>\n",
              "    </tr>\n",
              "    <tr>\n",
              "      <th>10002</th>\n",
              "      <td>A</td>\n",
              "      <td>58.0</td>\n",
              "      <td>37.0</td>\n",
              "      <td>0</td>\n",
              "      <td>42.0</td>\n",
              "      <td>35.0</td>\n",
              "      <td>40.0</td>\n",
              "      <td>212.0</td>\n",
              "      <td>P</td>\n",
              "      <td>NaN</td>\n",
              "      <td>NaN</td>\n",
              "    </tr>\n",
              "    <tr>\n",
              "      <th>10003</th>\n",
              "      <td>A</td>\n",
              "      <td>72.0</td>\n",
              "      <td>56.0</td>\n",
              "      <td>0</td>\n",
              "      <td>71.0</td>\n",
              "      <td>55.0</td>\n",
              "      <td>70.0</td>\n",
              "      <td>324.0</td>\n",
              "      <td>P</td>\n",
              "      <td>NaN</td>\n",
              "      <td>NaN</td>\n",
              "    </tr>\n",
              "    <tr>\n",
              "      <th>10004</th>\n",
              "      <td>A</td>\n",
              "      <td>87.0</td>\n",
              "      <td>64.0</td>\n",
              "      <td>0</td>\n",
              "      <td>83.0</td>\n",
              "      <td>58.0</td>\n",
              "      <td>65.0</td>\n",
              "      <td>357.0</td>\n",
              "      <td>P</td>\n",
              "      <td>NaN</td>\n",
              "      <td>NaN</td>\n",
              "    </tr>\n",
              "    <tr>\n",
              "      <th>10005</th>\n",
              "      <td>A</td>\n",
              "      <td>59.0</td>\n",
              "      <td>45.0</td>\n",
              "      <td>0</td>\n",
              "      <td>50.0</td>\n",
              "      <td>35.0</td>\n",
              "      <td>48.0</td>\n",
              "      <td>237.0</td>\n",
              "      <td>P</td>\n",
              "      <td>NaN</td>\n",
              "      <td>NaN</td>\n",
              "    </tr>\n",
              "  </tbody>\n",
              "</table>\n",
              "</div>"
            ],
            "text/plain": [
              "            region    fl    sl  language_total  ...  total  pass  withheld  extra\n",
              "roll_number                                     ...                              \n",
              "10001            A  53.0  36.0               0  ...  177.0     F       NaN    NaN\n",
              "10002            A  58.0  37.0               0  ...  212.0     P       NaN    NaN\n",
              "10003            A  72.0  56.0               0  ...  324.0     P       NaN    NaN\n",
              "10004            A  87.0  64.0               0  ...  357.0     P       NaN    NaN\n",
              "10005            A  59.0  45.0               0  ...  237.0     P       NaN    NaN\n",
              "\n",
              "[5 rows x 11 columns]"
            ]
          },
          "metadata": {},
          "execution_count": 330
        }
      ]
    },
    {
      "cell_type": "markdown",
      "metadata": {
        "id": "afd1e764"
      },
      "source": [
        "#### Function to find sum of two numbers"
      ],
      "id": "afd1e764"
    },
    {
      "cell_type": "code",
      "metadata": {
        "id": "c5236702"
      },
      "source": [
        "def total(fl,sl):\n",
        "    return fl+sl"
      ],
      "id": "c5236702",
      "execution_count": null,
      "outputs": []
    },
    {
      "cell_type": "markdown",
      "metadata": {
        "id": "9b6888d6"
      },
      "source": [
        "#### Call function to compute sum of fl and sl and store it in language_total column\n",
        "Broadcasting happens"
      ],
      "id": "9b6888d6"
    },
    {
      "cell_type": "code",
      "metadata": {
        "id": "eb73b9fe"
      },
      "source": [
        "sslc['language_total'] = total(sslc['fl'],sslc['sl'])"
      ],
      "id": "eb73b9fe",
      "execution_count": null,
      "outputs": []
    },
    {
      "cell_type": "code",
      "metadata": {
        "id": "c3e236b6",
        "colab": {
          "base_uri": "https://localhost:8080/",
          "height": 475
        },
        "outputId": "253e1e5a-77f8-4a9b-a353-38e239d920e6"
      },
      "source": [
        "sslc"
      ],
      "id": "c3e236b6",
      "execution_count": null,
      "outputs": [
        {
          "output_type": "execute_result",
          "data": {
            "text/html": [
              "<div>\n",
              "<style scoped>\n",
              "    .dataframe tbody tr th:only-of-type {\n",
              "        vertical-align: middle;\n",
              "    }\n",
              "\n",
              "    .dataframe tbody tr th {\n",
              "        vertical-align: top;\n",
              "    }\n",
              "\n",
              "    .dataframe thead th {\n",
              "        text-align: right;\n",
              "    }\n",
              "</style>\n",
              "<table border=\"1\" class=\"dataframe\">\n",
              "  <thead>\n",
              "    <tr style=\"text-align: right;\">\n",
              "      <th></th>\n",
              "      <th>region</th>\n",
              "      <th>fl</th>\n",
              "      <th>sl</th>\n",
              "      <th>language_total</th>\n",
              "      <th>math</th>\n",
              "      <th>sci</th>\n",
              "      <th>ss</th>\n",
              "      <th>total</th>\n",
              "      <th>pass</th>\n",
              "      <th>withheld</th>\n",
              "      <th>extra</th>\n",
              "    </tr>\n",
              "    <tr>\n",
              "      <th>roll_number</th>\n",
              "      <th></th>\n",
              "      <th></th>\n",
              "      <th></th>\n",
              "      <th></th>\n",
              "      <th></th>\n",
              "      <th></th>\n",
              "      <th></th>\n",
              "      <th></th>\n",
              "      <th></th>\n",
              "      <th></th>\n",
              "      <th></th>\n",
              "    </tr>\n",
              "  </thead>\n",
              "  <tbody>\n",
              "    <tr>\n",
              "      <th>10001</th>\n",
              "      <td>A</td>\n",
              "      <td>53.0</td>\n",
              "      <td>36.0</td>\n",
              "      <td>89.0</td>\n",
              "      <td>28.0</td>\n",
              "      <td>16.0</td>\n",
              "      <td>44.0</td>\n",
              "      <td>177.0</td>\n",
              "      <td>F</td>\n",
              "      <td>NaN</td>\n",
              "      <td>NaN</td>\n",
              "    </tr>\n",
              "    <tr>\n",
              "      <th>10002</th>\n",
              "      <td>A</td>\n",
              "      <td>58.0</td>\n",
              "      <td>37.0</td>\n",
              "      <td>95.0</td>\n",
              "      <td>42.0</td>\n",
              "      <td>35.0</td>\n",
              "      <td>40.0</td>\n",
              "      <td>212.0</td>\n",
              "      <td>P</td>\n",
              "      <td>NaN</td>\n",
              "      <td>NaN</td>\n",
              "    </tr>\n",
              "    <tr>\n",
              "      <th>10003</th>\n",
              "      <td>A</td>\n",
              "      <td>72.0</td>\n",
              "      <td>56.0</td>\n",
              "      <td>128.0</td>\n",
              "      <td>71.0</td>\n",
              "      <td>55.0</td>\n",
              "      <td>70.0</td>\n",
              "      <td>324.0</td>\n",
              "      <td>P</td>\n",
              "      <td>NaN</td>\n",
              "      <td>NaN</td>\n",
              "    </tr>\n",
              "    <tr>\n",
              "      <th>10004</th>\n",
              "      <td>A</td>\n",
              "      <td>87.0</td>\n",
              "      <td>64.0</td>\n",
              "      <td>151.0</td>\n",
              "      <td>83.0</td>\n",
              "      <td>58.0</td>\n",
              "      <td>65.0</td>\n",
              "      <td>357.0</td>\n",
              "      <td>P</td>\n",
              "      <td>NaN</td>\n",
              "      <td>NaN</td>\n",
              "    </tr>\n",
              "    <tr>\n",
              "      <th>10005</th>\n",
              "      <td>A</td>\n",
              "      <td>59.0</td>\n",
              "      <td>45.0</td>\n",
              "      <td>104.0</td>\n",
              "      <td>50.0</td>\n",
              "      <td>35.0</td>\n",
              "      <td>48.0</td>\n",
              "      <td>237.0</td>\n",
              "      <td>P</td>\n",
              "      <td>NaN</td>\n",
              "      <td>NaN</td>\n",
              "    </tr>\n",
              "    <tr>\n",
              "      <th>...</th>\n",
              "      <td>...</td>\n",
              "      <td>...</td>\n",
              "      <td>...</td>\n",
              "      <td>...</td>\n",
              "      <td>...</td>\n",
              "      <td>...</td>\n",
              "      <td>...</td>\n",
              "      <td>...</td>\n",
              "      <td>...</td>\n",
              "      <td>...</td>\n",
              "      <td>...</td>\n",
              "    </tr>\n",
              "    <tr>\n",
              "      <th>73059</th>\n",
              "      <td>A</td>\n",
              "      <td>45.0</td>\n",
              "      <td>36.0</td>\n",
              "      <td>81.0</td>\n",
              "      <td>47.0</td>\n",
              "      <td>35.0</td>\n",
              "      <td>63.0</td>\n",
              "      <td>226.0</td>\n",
              "      <td>P</td>\n",
              "      <td>NaN</td>\n",
              "      <td>NaN</td>\n",
              "    </tr>\n",
              "    <tr>\n",
              "      <th>73060</th>\n",
              "      <td>A</td>\n",
              "      <td>92.0</td>\n",
              "      <td>82.0</td>\n",
              "      <td>174.0</td>\n",
              "      <td>100.0</td>\n",
              "      <td>96.0</td>\n",
              "      <td>98.0</td>\n",
              "      <td>468.0</td>\n",
              "      <td>P</td>\n",
              "      <td>NaN</td>\n",
              "      <td>NaN</td>\n",
              "    </tr>\n",
              "    <tr>\n",
              "      <th>73061</th>\n",
              "      <td>A</td>\n",
              "      <td>93.0</td>\n",
              "      <td>77.0</td>\n",
              "      <td>170.0</td>\n",
              "      <td>100.0</td>\n",
              "      <td>86.0</td>\n",
              "      <td>97.0</td>\n",
              "      <td>453.0</td>\n",
              "      <td>P</td>\n",
              "      <td>NaN</td>\n",
              "      <td>NaN</td>\n",
              "    </tr>\n",
              "    <tr>\n",
              "      <th>73062</th>\n",
              "      <td>A</td>\n",
              "      <td>45.0</td>\n",
              "      <td>41.0</td>\n",
              "      <td>86.0</td>\n",
              "      <td>43.0</td>\n",
              "      <td>35.0</td>\n",
              "      <td>38.0</td>\n",
              "      <td>202.0</td>\n",
              "      <td>P</td>\n",
              "      <td>NaN</td>\n",
              "      <td>NaN</td>\n",
              "    </tr>\n",
              "    <tr>\n",
              "      <th>73</th>\n",
              "      <td>A</td>\n",
              "      <td>NaN</td>\n",
              "      <td>NaN</td>\n",
              "      <td>NaN</td>\n",
              "      <td>NaN</td>\n",
              "      <td>NaN</td>\n",
              "      <td>NaN</td>\n",
              "      <td>NaN</td>\n",
              "      <td>F</td>\n",
              "      <td>NaN</td>\n",
              "      <td>NaN</td>\n",
              "    </tr>\n",
              "  </tbody>\n",
              "</table>\n",
              "<p>61917 rows × 11 columns</p>\n",
              "</div>"
            ],
            "text/plain": [
              "            region    fl    sl  language_total  ...  total  pass  withheld  extra\n",
              "roll_number                                     ...                              \n",
              "10001            A  53.0  36.0            89.0  ...  177.0     F       NaN    NaN\n",
              "10002            A  58.0  37.0            95.0  ...  212.0     P       NaN    NaN\n",
              "10003            A  72.0  56.0           128.0  ...  324.0     P       NaN    NaN\n",
              "10004            A  87.0  64.0           151.0  ...  357.0     P       NaN    NaN\n",
              "10005            A  59.0  45.0           104.0  ...  237.0     P       NaN    NaN\n",
              "...            ...   ...   ...             ...  ...    ...   ...       ...    ...\n",
              "73059            A  45.0  36.0            81.0  ...  226.0     P       NaN    NaN\n",
              "73060            A  92.0  82.0           174.0  ...  468.0     P       NaN    NaN\n",
              "73061            A  93.0  77.0           170.0  ...  453.0     P       NaN    NaN\n",
              "73062            A  45.0  41.0            86.0  ...  202.0     P       NaN    NaN\n",
              "73               A   NaN   NaN             NaN  ...    NaN     F       NaN    NaN\n",
              "\n",
              "[61917 rows x 11 columns]"
            ]
          },
          "metadata": {},
          "execution_count": 333
        }
      ]
    },
    {
      "cell_type": "code",
      "metadata": {
        "id": "a7d0a0d7"
      },
      "source": [
        ""
      ],
      "id": "a7d0a0d7",
      "execution_count": null,
      "outputs": []
    }
  ]
}